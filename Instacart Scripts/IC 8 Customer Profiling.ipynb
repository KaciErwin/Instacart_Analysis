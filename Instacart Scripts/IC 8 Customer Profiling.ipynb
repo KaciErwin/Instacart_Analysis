{
 "cells": [
  {
   "cell_type": "markdown",
   "id": "9bb921a9",
   "metadata": {},
   "source": [
    "# Exercise 4.10"
   ]
  },
  {
   "cell_type": "markdown",
   "id": "1722bdca",
   "metadata": {},
   "source": [
    "# Contents\n",
    " ## Import libraries and data\n",
    " ## Create Region column\n",
    " ## Analyze spending in each region\n",
    " ## Create table without low-activity customers\n",
    " ## Analyze Customer Ordering Behavior\n",
    "   ### Create a customer shopping behavior flag based on order timing\n",
    "   ### Find statistics for shopping behavior based on order number\n",
    "   ### Find statistics for shopping behavior based on expenditure\n",
    "   ### Analyze customer shopping behavior by department\n",
    "   ### Analyze customer shopping behavior by region\n",
    " ## Analyze Customer Lifestyle\n",
    "   ### Create a customer lifestyle flag based on income and marital status\n",
    "   ### Find statistics for lifestyle based on order number\n",
    "   ### Find statistics for lifestyle based on expenditure\n",
    "   ### Analyze customer shopping behavior by region\n",
    " ## Export tables and plots"
   ]
  },
  {
   "cell_type": "markdown",
   "id": "93530469",
   "metadata": {},
   "source": [
    "## Import libraries and data"
   ]
  },
  {
   "cell_type": "code",
   "execution_count": 3,
   "id": "d7c07b6f",
   "metadata": {},
   "outputs": [],
   "source": [
    "# import analysis libraries\n",
    "import pandas as pd\n",
    "import numpy as np\n",
    "import os"
   ]
  },
  {
   "cell_type": "code",
   "execution_count": 4,
   "id": "97167aab",
   "metadata": {},
   "outputs": [],
   "source": [
    "# import ord_prod_cust data set\n",
    "ord_prod_full = pd.read_pickle(r'C:\\Users\\kacie\\Box\\Personal\\CareerFoundry\\Data Immersion\\Achievement 4\\Jupyter Folders\\Data\\Prepared Data\\ord_prod_custC.pkl')"
   ]
  },
  {
   "cell_type": "code",
   "execution_count": 5,
   "id": "05cf5525",
   "metadata": {},
   "outputs": [
    {
     "data": {
      "text/plain": [
       "Index(['order_id', 'user_id', 'order_number', 'order_day_of_week',\n",
       "       'order_hour', 'days_since_prior_order', 'product_id',\n",
       "       'add_to_cart_order', 'reordered', 'product_name', 'aisle_id',\n",
       "       'department_id', 'prices', 'price_range_loc', 'Busiest_Days',\n",
       "       'busiest_period_of_day', 'max_order', 'loyalty_flag', 'spending_mean',\n",
       "       'spending_flag', 'frequency_median', 'frequency_flag', 'First Name',\n",
       "       'Last Name', 'Gender', 'STATE', 'Age', 'date_joined', 'n_dependants',\n",
       "       'fam_status', 'income', '_merge'],\n",
       "      dtype='object')"
      ]
     },
     "execution_count": 5,
     "metadata": {},
     "output_type": "execute_result"
    }
   ],
   "source": [
    "# check table column names\n",
    "ord_prod_full.columns"
   ]
  },
  {
   "cell_type": "code",
   "execution_count": 5,
   "id": "3c5512f7",
   "metadata": {},
   "outputs": [],
   "source": [
    "# remove the first and last name columns for security reasons\n",
    "ord_prod_full.drop(['First Name', 'Last Name'], axis=1, inplace = True)"
   ]
  },
  {
   "cell_type": "code",
   "execution_count": 7,
   "id": "bfa9428f",
   "metadata": {},
   "outputs": [
    {
     "data": {
      "text/plain": [
       "Index(['order_id', 'user_id', 'order_number', 'order_day_of_week',\n",
       "       'order_hour', 'days_since_prior_order', 'product_id',\n",
       "       'add_to_cart_order', 'reordered', 'product_name', 'aisle_id',\n",
       "       'department_id', 'prices', 'price_range_loc', 'Busiest_Days',\n",
       "       'busiest_period_of_day', 'max_order', 'loyalty_flag', 'spending_mean',\n",
       "       'spending_flag', 'frequency_median', 'frequency_flag', 'Gender',\n",
       "       'STATE', 'Age', 'date_joined', 'n_dependants', 'fam_status', 'income',\n",
       "       '_merge'],\n",
       "      dtype='object')"
      ]
     },
     "execution_count": 7,
     "metadata": {},
     "output_type": "execute_result"
    }
   ],
   "source": [
    "# check that the columns were removed\n",
    "ord_prod_full.columns"
   ]
  },
  {
   "cell_type": "markdown",
   "id": "a4eddff9",
   "metadata": {},
   "source": [
    "## Create Region column"
   ]
  },
  {
   "cell_type": "code",
   "execution_count": 6,
   "id": "292ee94a",
   "metadata": {},
   "outputs": [],
   "source": [
    "# create lists of states per region\n",
    "Northeast_states = ['Maine', 'New Hampshire', 'Vermont', 'Massachusetts', 'Rhode Island', 'Connecticut', 'New York', 'Pennsylvania', 'New Jersey']"
   ]
  },
  {
   "cell_type": "code",
   "execution_count": 7,
   "id": "b7cd3218",
   "metadata": {},
   "outputs": [],
   "source": [
    "Midwest_states = ['Wisconsin', 'Michigan', 'Illinois', 'Indiana', 'Ohio', 'North Dakota', 'South Dakota', 'Nebraska', 'Kansas', 'Minnesota', 'Iowa', 'Missouri']"
   ]
  },
  {
   "cell_type": "code",
   "execution_count": 8,
   "id": "403496ed",
   "metadata": {},
   "outputs": [],
   "source": [
    "South_states = ['Delaware', 'Maryland', 'District of Columbia', 'Virginia', 'West Virginia', 'North Carolina', 'South Carolina', 'Georgia', 'Florida', 'Kentucky', 'Tennessee', 'Mississippi', 'Alabama', 'Oklahoma', 'Texas', 'Arkansas', 'Louisiana']"
   ]
  },
  {
   "cell_type": "code",
   "execution_count": 9,
   "id": "d0a657e8",
   "metadata": {},
   "outputs": [],
   "source": [
    "West_states = ['Idaho', 'Montana', 'Wyoming', 'Nevada', 'Utah', 'Colorado', 'Arizona', 'New Mexico', 'Alaska', 'Washington', 'Oregon', 'California', 'Hawaii']"
   ]
  },
  {
   "cell_type": "code",
   "execution_count": 10,
   "id": "33fc245b",
   "metadata": {},
   "outputs": [],
   "source": [
    "# set the region for each state in the table\n",
    "ord_prod_full.loc[ord_prod_full['STATE'].isin(Northeast_states), 'Region'] = 'Northeast'"
   ]
  },
  {
   "cell_type": "code",
   "execution_count": 11,
   "id": "e912e5e4",
   "metadata": {},
   "outputs": [],
   "source": [
    "ord_prod_full.loc[ord_prod_full['STATE'].isin(Midwest_states), 'Region'] = 'Midwest'"
   ]
  },
  {
   "cell_type": "code",
   "execution_count": 12,
   "id": "7f01071e",
   "metadata": {},
   "outputs": [],
   "source": [
    "ord_prod_full.loc[ord_prod_full['STATE'].isin(South_states), 'Region'] = 'South'"
   ]
  },
  {
   "cell_type": "code",
   "execution_count": 13,
   "id": "37ddd90e",
   "metadata": {},
   "outputs": [],
   "source": [
    "ord_prod_full.loc[ord_prod_full['STATE'].isin(West_states), 'Region'] = 'West'"
   ]
  },
  {
   "cell_type": "code",
   "execution_count": 14,
   "id": "d040c155",
   "metadata": {},
   "outputs": [
    {
     "data": {
      "text/plain": [
       "Region\n",
       "South        10801982\n",
       "West          8300617\n",
       "Midwest       7604016\n",
       "Northeast     5728444\n",
       "Name: count, dtype: int64"
      ]
     },
     "execution_count": 14,
     "metadata": {},
     "output_type": "execute_result"
    }
   ],
   "source": [
    "# find value counts for each region to check for assignment completion\n",
    "ord_prod_full['Region'].value_counts(dropna = False)"
   ]
  },
  {
   "cell_type": "markdown",
   "id": "9075621d",
   "metadata": {},
   "source": [
    "## Analyze spending in each region"
   ]
  },
  {
   "cell_type": "code",
   "execution_count": 17,
   "id": "327cb9fb",
   "metadata": {},
   "outputs": [],
   "source": [
    "# create table for region and spending flag\n",
    "region_spending = pd.crosstab(ord_prod_full['Region'], ord_prod_full['spending_flag'], dropna = False)"
   ]
  },
  {
   "cell_type": "code",
   "execution_count": 18,
   "id": "e806a0cd",
   "metadata": {},
   "outputs": [
    {
     "data": {
      "text/html": [
       "<div>\n",
       "<style scoped>\n",
       "    .dataframe tbody tr th:only-of-type {\n",
       "        vertical-align: middle;\n",
       "    }\n",
       "\n",
       "    .dataframe tbody tr th {\n",
       "        vertical-align: top;\n",
       "    }\n",
       "\n",
       "    .dataframe thead th {\n",
       "        text-align: right;\n",
       "    }\n",
       "</style>\n",
       "<table border=\"1\" class=\"dataframe\">\n",
       "  <thead>\n",
       "    <tr style=\"text-align: right;\">\n",
       "      <th>spending_flag</th>\n",
       "      <th>High Spender</th>\n",
       "      <th>Low Spender</th>\n",
       "    </tr>\n",
       "    <tr>\n",
       "      <th>Region</th>\n",
       "      <th></th>\n",
       "      <th></th>\n",
       "    </tr>\n",
       "  </thead>\n",
       "  <tbody>\n",
       "    <tr>\n",
       "      <th>Midwest</th>\n",
       "      <td>156084</td>\n",
       "      <td>7447932</td>\n",
       "    </tr>\n",
       "    <tr>\n",
       "      <th>Northeast</th>\n",
       "      <td>108276</td>\n",
       "      <td>5620168</td>\n",
       "    </tr>\n",
       "    <tr>\n",
       "      <th>South</th>\n",
       "      <td>209878</td>\n",
       "      <td>10592104</td>\n",
       "    </tr>\n",
       "    <tr>\n",
       "      <th>West</th>\n",
       "      <td>160440</td>\n",
       "      <td>8140177</td>\n",
       "    </tr>\n",
       "  </tbody>\n",
       "</table>\n",
       "</div>"
      ],
      "text/plain": [
       "spending_flag  High Spender  Low Spender\n",
       "Region                                  \n",
       "Midwest              156084      7447932\n",
       "Northeast            108276      5620168\n",
       "South                209878     10592104\n",
       "West                 160440      8140177"
      ]
     },
     "execution_count": 18,
     "metadata": {},
     "output_type": "execute_result"
    }
   ],
   "source": [
    "# view table\n",
    "region_spending"
   ]
  },
  {
   "cell_type": "markdown",
   "id": "63add1a6",
   "metadata": {},
   "source": [
    "## Create table without low-activity customers"
   ]
  },
  {
   "cell_type": "code",
   "execution_count": 19,
   "id": "501c5a82",
   "metadata": {},
   "outputs": [],
   "source": [
    "# create low-activity flag\n",
    "ord_prod_full.loc[ord_prod_full['order_number'] < 5, 'low_spender'] = 'yes'"
   ]
  },
  {
   "cell_type": "code",
   "execution_count": 20,
   "id": "6f87c3b3",
   "metadata": {},
   "outputs": [],
   "source": [
    "ord_prod_full.loc[ord_prod_full['order_number'] >= 5, 'low_spender'] = 'no'"
   ]
  },
  {
   "cell_type": "code",
   "execution_count": 21,
   "id": "74cdadac",
   "metadata": {},
   "outputs": [],
   "source": [
    "# create table including only mid to high_activity customers\n",
    "mid_high_spender = ord_prod_full[ord_prod_full['low_spender'] == 'no']"
   ]
  },
  {
   "cell_type": "code",
   "execution_count": 22,
   "id": "ec7af77e",
   "metadata": {},
   "outputs": [
    {
     "data": {
      "text/plain": [
       "(32435059, 32)"
      ]
     },
     "execution_count": 22,
     "metadata": {},
     "output_type": "execute_result"
    }
   ],
   "source": [
    "# compare shapes of original and new table\n",
    "ord_prod_full.shape"
   ]
  },
  {
   "cell_type": "code",
   "execution_count": 23,
   "id": "56371578",
   "metadata": {},
   "outputs": [
    {
     "data": {
      "text/plain": [
       "(24437464, 32)"
      ]
     },
     "execution_count": 23,
     "metadata": {},
     "output_type": "execute_result"
    }
   ],
   "source": [
    "mid_high_spender.shape"
   ]
  },
  {
   "cell_type": "code",
   "execution_count": 24,
   "id": "36fe13a8",
   "metadata": {},
   "outputs": [
    {
     "data": {
      "text/plain": [
       "low_spender\n",
       "no     24437464\n",
       "yes     7997595\n",
       "Name: count, dtype: int64"
      ]
     },
     "execution_count": 24,
     "metadata": {},
     "output_type": "execute_result"
    }
   ],
   "source": [
    "# check that new table has no missing values\n",
    "ord_prod_full['low_spender'].value_counts(dropna = False)"
   ]
  },
  {
   "cell_type": "code",
   "execution_count": null,
   "id": "bef8bba3",
   "metadata": {},
   "outputs": [],
   "source": [
    "# Save mid to high_activity able \n",
    "mid_high_spender.to_pickle(r'C:\\Users\\kacie\\Box\\Personal\\CareerFoundry\\Data Immersion\\Achievement 4\\Jupyter Folders\\Data\\Prepared Data\\mid_high_spender.pkl')"
   ]
  },
  {
   "cell_type": "markdown",
   "id": "dc7889e4",
   "metadata": {},
   "source": [
    "## Analyze Customer Ordering Behavior"
   ]
  },
  {
   "cell_type": "markdown",
   "id": "3641dcf7",
   "metadata": {},
   "source": [
    "### Create a customer shopping behavior flag based on order timing"
   ]
  },
  {
   "cell_type": "code",
   "execution_count": 15,
   "id": "f62edf99",
   "metadata": {},
   "outputs": [],
   "source": [
    "# set the default flag to regular\n",
    "ord_prod_full['shopping_behavior'] = 'Regular'"
   ]
  },
  {
   "cell_type": "code",
   "execution_count": 16,
   "id": "f949428f",
   "metadata": {},
   "outputs": [],
   "source": [
    "# set the flag to early bird for orders between 5a and 8a\n",
    "ord_prod_full.loc[ord_prod_full['order_hour'].between(5, 8), 'shopping_behavior'] = 'early bird'"
   ]
  },
  {
   "cell_type": "code",
   "execution_count": 17,
   "id": "64c9ee3b",
   "metadata": {},
   "outputs": [],
   "source": [
    "# set the flag to night owl for orders after 8p and before 5a\n",
    "ord_prod_full.loc[(ord_prod_full['order_hour'] >= 21) | (ord_prod_full['order_hour'] < 5), 'shopping_behavior'] = 'night owl'"
   ]
  },
  {
   "cell_type": "code",
   "execution_count": 18,
   "id": "cdab1583",
   "metadata": {},
   "outputs": [
    {
     "data": {
      "text/plain": [
       "shopping_behavior\n",
       "Regular       27101736\n",
       "early bird     2990802\n",
       "night owl      2342521\n",
       "Name: count, dtype: int64"
      ]
     },
     "execution_count": 18,
     "metadata": {},
     "output_type": "execute_result"
    }
   ],
   "source": [
    "# check for assignment completion\n",
    "ord_prod_full['shopping_behavior'].value_counts(dropna = False)"
   ]
  },
  {
   "cell_type": "code",
   "execution_count": 31,
   "id": "9e61fbf5",
   "metadata": {},
   "outputs": [],
   "source": [
    "# import visualization libraries\n",
    "import matplotlib.pyplot as plt\n",
    "import seaborn as sns\n",
    "import scipy"
   ]
  },
  {
   "cell_type": "code",
   "execution_count": 32,
   "id": "d019ea73",
   "metadata": {},
   "outputs": [
    {
     "data": {
      "image/png": "[encoded data removed]",
      "text/plain": [
       "<Figure size 640x480 with 1 Axes>"
      ]
     },
     "metadata": {},
     "output_type": "display_data"
    }
   ],
   "source": [
    "# create bar graph for shopping behavior\n",
    "shopping_behavior_bar = ord_prod_full['shopping_behavior'].value_counts().plot.bar()"
   ]
  },
  {
   "cell_type": "code",
   "execution_count": 110,
   "id": "5852d3d0",
   "metadata": {},
   "outputs": [
    {
     "data": {
      "image/png": "[encoded data removed]",
      "text/plain": [
       "<Figure size 640x480 with 1 Axes>"
      ]
     },
     "metadata": {},
     "output_type": "display_data"
    }
   ],
   "source": [
    "# create pie chart for shopping behavior\n",
    "#create table of shopping behavior counts\n",
    "behavior_counts = ord_prod_full['shopping_behavior'].value_counts()\n",
    "# create pie chart with labels, color\n",
    "behavior_pie = plt.pie(behavior_counts,labels = behavior_counts.index, autopct='%1.1f%%', colors=['#CB4335', '#EC7063', '#F5B7B1'])\n",
    "# add title\n",
    "plt.title('Shopping Behavior')\n",
    "# save pie chart\n",
    "plt.savefig(r'C:\\Users\\kacie\\Box\\Personal\\CareerFoundry\\Data Immersion\\Achievement 4\\Jupyter Folders\\New Visualzations\\behavior_pie.png')\n"
   ]
  },
  {
   "cell_type": "markdown",
   "id": "63dd9e94",
   "metadata": {},
   "source": [
    "### Find statistics for shopping behavior based on order number"
   ]
  },
  {
   "cell_type": "code",
   "execution_count": 19,
   "id": "8d3cf4bb",
   "metadata": {},
   "outputs": [],
   "source": [
    "# find min, max, and mean order numbers for each behavior\n",
    "behavior_order_stats = ord_prod_full.groupby('shopping_behavior')['order_number'].agg(['min', 'max', 'mean'])"
   ]
  },
  {
   "cell_type": "code",
   "execution_count": 20,
   "id": "63d064c0",
   "metadata": {},
   "outputs": [
    {
     "data": {
      "text/html": [
       "<div>\n",
       "<style scoped>\n",
       "    .dataframe tbody tr th:only-of-type {\n",
       "        vertical-align: middle;\n",
       "    }\n",
       "\n",
       "    .dataframe tbody tr th {\n",
       "        vertical-align: top;\n",
       "    }\n",
       "\n",
       "    .dataframe thead th {\n",
       "        text-align: right;\n",
       "    }\n",
       "</style>\n",
       "<table border=\"1\" class=\"dataframe\">\n",
       "  <thead>\n",
       "    <tr style=\"text-align: right;\">\n",
       "      <th></th>\n",
       "      <th>min</th>\n",
       "      <th>max</th>\n",
       "      <th>mean</th>\n",
       "    </tr>\n",
       "    <tr>\n",
       "      <th>shopping_behavior</th>\n",
       "      <th></th>\n",
       "      <th></th>\n",
       "      <th></th>\n",
       "    </tr>\n",
       "  </thead>\n",
       "  <tbody>\n",
       "    <tr>\n",
       "      <th>Regular</th>\n",
       "      <td>1</td>\n",
       "      <td>99</td>\n",
       "      <td>16.931966</td>\n",
       "    </tr>\n",
       "    <tr>\n",
       "      <th>early bird</th>\n",
       "      <td>1</td>\n",
       "      <td>99</td>\n",
       "      <td>19.338724</td>\n",
       "    </tr>\n",
       "    <tr>\n",
       "      <th>night owl</th>\n",
       "      <td>1</td>\n",
       "      <td>99</td>\n",
       "      <td>16.766575</td>\n",
       "    </tr>\n",
       "  </tbody>\n",
       "</table>\n",
       "</div>"
      ],
      "text/plain": [
       "                   min  max       mean\n",
       "shopping_behavior                     \n",
       "Regular              1   99  16.931966\n",
       "early bird           1   99  19.338724\n",
       "night owl            1   99  16.766575"
      ]
     },
     "execution_count": 20,
     "metadata": {},
     "output_type": "execute_result"
    }
   ],
   "source": [
    "# view stats\n",
    "behavior_order_stats"
   ]
  },
  {
   "cell_type": "markdown",
   "id": "dde8e009",
   "metadata": {},
   "source": [
    "### Find statistics for shopping behavior based on expenditure"
   ]
  },
  {
   "cell_type": "code",
   "execution_count": 21,
   "id": "42c5e1c1",
   "metadata": {},
   "outputs": [],
   "source": [
    "# find the expenditure for each order for each customer\n",
    "behavior_order_total = ord_prod_full.groupby(['shopping_behavior', 'user_id', 'order_number'])['prices'].sum().reset_index()"
   ]
  },
  {
   "cell_type": "code",
   "execution_count": 22,
   "id": "2c2058a1",
   "metadata": {},
   "outputs": [
    {
     "data": {
      "text/html": [
       "<div>\n",
       "<style scoped>\n",
       "    .dataframe tbody tr th:only-of-type {\n",
       "        vertical-align: middle;\n",
       "    }\n",
       "\n",
       "    .dataframe tbody tr th {\n",
       "        vertical-align: top;\n",
       "    }\n",
       "\n",
       "    .dataframe thead th {\n",
       "        text-align: right;\n",
       "    }\n",
       "</style>\n",
       "<table border=\"1\" class=\"dataframe\">\n",
       "  <thead>\n",
       "    <tr style=\"text-align: right;\">\n",
       "      <th></th>\n",
       "      <th>shopping_behavior</th>\n",
       "      <th>user_id</th>\n",
       "      <th>order_number</th>\n",
       "      <th>prices</th>\n",
       "    </tr>\n",
       "  </thead>\n",
       "  <tbody>\n",
       "    <tr>\n",
       "      <th>0</th>\n",
       "      <td>Regular</td>\n",
       "      <td>1</td>\n",
       "      <td>3</td>\n",
       "      <td>28.2</td>\n",
       "    </tr>\n",
       "    <tr>\n",
       "      <th>1</th>\n",
       "      <td>Regular</td>\n",
       "      <td>1</td>\n",
       "      <td>5</td>\n",
       "      <td>57.0</td>\n",
       "    </tr>\n",
       "    <tr>\n",
       "      <th>2</th>\n",
       "      <td>Regular</td>\n",
       "      <td>1</td>\n",
       "      <td>7</td>\n",
       "      <td>29.0</td>\n",
       "    </tr>\n",
       "    <tr>\n",
       "      <th>3</th>\n",
       "      <td>Regular</td>\n",
       "      <td>1</td>\n",
       "      <td>8</td>\n",
       "      <td>40.2</td>\n",
       "    </tr>\n",
       "    <tr>\n",
       "      <th>4</th>\n",
       "      <td>Regular</td>\n",
       "      <td>1</td>\n",
       "      <td>9</td>\n",
       "      <td>40.2</td>\n",
       "    </tr>\n",
       "    <tr>\n",
       "      <th>...</th>\n",
       "      <td>...</td>\n",
       "      <td>...</td>\n",
       "      <td>...</td>\n",
       "      <td>...</td>\n",
       "    </tr>\n",
       "    <tr>\n",
       "      <th>3214869</th>\n",
       "      <td>night owl</td>\n",
       "      <td>206207</td>\n",
       "      <td>12</td>\n",
       "      <td>42.8</td>\n",
       "    </tr>\n",
       "    <tr>\n",
       "      <th>3214870</th>\n",
       "      <td>night owl</td>\n",
       "      <td>206208</td>\n",
       "      <td>18</td>\n",
       "      <td>38.7</td>\n",
       "    </tr>\n",
       "    <tr>\n",
       "      <th>3214871</th>\n",
       "      <td>night owl</td>\n",
       "      <td>206208</td>\n",
       "      <td>35</td>\n",
       "      <td>124.9</td>\n",
       "    </tr>\n",
       "    <tr>\n",
       "      <th>3214872</th>\n",
       "      <td>night owl</td>\n",
       "      <td>206208</td>\n",
       "      <td>47</td>\n",
       "      <td>149.4</td>\n",
       "    </tr>\n",
       "    <tr>\n",
       "      <th>3214873</th>\n",
       "      <td>night owl</td>\n",
       "      <td>206208</td>\n",
       "      <td>49</td>\n",
       "      <td>127.3</td>\n",
       "    </tr>\n",
       "  </tbody>\n",
       "</table>\n",
       "<p>3214874 rows × 4 columns</p>\n",
       "</div>"
      ],
      "text/plain": [
       "        shopping_behavior  user_id  order_number  prices\n",
       "0                 Regular        1             3    28.2\n",
       "1                 Regular        1             5    57.0\n",
       "2                 Regular        1             7    29.0\n",
       "3                 Regular        1             8    40.2\n",
       "4                 Regular        1             9    40.2\n",
       "...                   ...      ...           ...     ...\n",
       "3214869         night owl   206207            12    42.8\n",
       "3214870         night owl   206208            18    38.7\n",
       "3214871         night owl   206208            35   124.9\n",
       "3214872         night owl   206208            47   149.4\n",
       "3214873         night owl   206208            49   127.3\n",
       "\n",
       "[3214874 rows x 4 columns]"
      ]
     },
     "execution_count": 22,
     "metadata": {},
     "output_type": "execute_result"
    }
   ],
   "source": [
    "# view order expenditure stats\n",
    "behavior_order_total"
   ]
  },
  {
   "cell_type": "code",
   "execution_count": 23,
   "id": "26c031f8",
   "metadata": {},
   "outputs": [],
   "source": [
    "# find the expenditure statistics for each customer \n",
    "behavior_shopper_total = behavior_order_total.groupby(['shopping_behavior', 'user_id'])['prices'].agg(['min', 'max', 'mean']).reset_index()"
   ]
  },
  {
   "cell_type": "code",
   "execution_count": 24,
   "id": "bd22c226",
   "metadata": {},
   "outputs": [
    {
     "data": {
      "text/html": [
       "<div>\n",
       "<style scoped>\n",
       "    .dataframe tbody tr th:only-of-type {\n",
       "        vertical-align: middle;\n",
       "    }\n",
       "\n",
       "    .dataframe tbody tr th {\n",
       "        vertical-align: top;\n",
       "    }\n",
       "\n",
       "    .dataframe thead th {\n",
       "        text-align: right;\n",
       "    }\n",
       "</style>\n",
       "<table border=\"1\" class=\"dataframe\">\n",
       "  <thead>\n",
       "    <tr style=\"text-align: right;\">\n",
       "      <th></th>\n",
       "      <th>shopping_behavior</th>\n",
       "      <th>user_id</th>\n",
       "      <th>min</th>\n",
       "      <th>max</th>\n",
       "      <th>mean</th>\n",
       "    </tr>\n",
       "  </thead>\n",
       "  <tbody>\n",
       "    <tr>\n",
       "      <th>0</th>\n",
       "      <td>Regular</td>\n",
       "      <td>1</td>\n",
       "      <td>28.2</td>\n",
       "      <td>57.0</td>\n",
       "      <td>38.920000</td>\n",
       "    </tr>\n",
       "    <tr>\n",
       "      <th>1</th>\n",
       "      <td>Regular</td>\n",
       "      <td>2</td>\n",
       "      <td>19.0</td>\n",
       "      <td>213.1</td>\n",
       "      <td>104.685714</td>\n",
       "    </tr>\n",
       "    <tr>\n",
       "      <th>2</th>\n",
       "      <td>Regular</td>\n",
       "      <td>3</td>\n",
       "      <td>30.7</td>\n",
       "      <td>107.2</td>\n",
       "      <td>60.116667</td>\n",
       "    </tr>\n",
       "    <tr>\n",
       "      <th>3</th>\n",
       "      <td>Regular</td>\n",
       "      <td>4</td>\n",
       "      <td>10.8</td>\n",
       "      <td>63.4</td>\n",
       "      <td>29.540000</td>\n",
       "    </tr>\n",
       "    <tr>\n",
       "      <th>4</th>\n",
       "      <td>Regular</td>\n",
       "      <td>5</td>\n",
       "      <td>43.6</td>\n",
       "      <td>118.4</td>\n",
       "      <td>85.000000</td>\n",
       "    </tr>\n",
       "    <tr>\n",
       "      <th>...</th>\n",
       "      <td>...</td>\n",
       "      <td>...</td>\n",
       "      <td>...</td>\n",
       "      <td>...</td>\n",
       "      <td>...</td>\n",
       "    </tr>\n",
       "    <tr>\n",
       "      <th>380631</th>\n",
       "      <td>night owl</td>\n",
       "      <td>206200</td>\n",
       "      <td>59.1</td>\n",
       "      <td>243.4</td>\n",
       "      <td>117.066667</td>\n",
       "    </tr>\n",
       "    <tr>\n",
       "      <th>380632</th>\n",
       "      <td>night owl</td>\n",
       "      <td>206201</td>\n",
       "      <td>54.7</td>\n",
       "      <td>110.6</td>\n",
       "      <td>82.650000</td>\n",
       "    </tr>\n",
       "    <tr>\n",
       "      <th>380633</th>\n",
       "      <td>night owl</td>\n",
       "      <td>206202</td>\n",
       "      <td>19.1</td>\n",
       "      <td>122.6</td>\n",
       "      <td>70.287500</td>\n",
       "    </tr>\n",
       "    <tr>\n",
       "      <th>380634</th>\n",
       "      <td>night owl</td>\n",
       "      <td>206207</td>\n",
       "      <td>42.8</td>\n",
       "      <td>50.8</td>\n",
       "      <td>46.800000</td>\n",
       "    </tr>\n",
       "    <tr>\n",
       "      <th>380635</th>\n",
       "      <td>night owl</td>\n",
       "      <td>206208</td>\n",
       "      <td>38.7</td>\n",
       "      <td>149.4</td>\n",
       "      <td>110.075000</td>\n",
       "    </tr>\n",
       "  </tbody>\n",
       "</table>\n",
       "<p>380636 rows × 5 columns</p>\n",
       "</div>"
      ],
      "text/plain": [
       "       shopping_behavior  user_id   min    max        mean\n",
       "0                Regular        1  28.2   57.0   38.920000\n",
       "1                Regular        2  19.0  213.1  104.685714\n",
       "2                Regular        3  30.7  107.2   60.116667\n",
       "3                Regular        4  10.8   63.4   29.540000\n",
       "4                Regular        5  43.6  118.4   85.000000\n",
       "...                  ...      ...   ...    ...         ...\n",
       "380631         night owl   206200  59.1  243.4  117.066667\n",
       "380632         night owl   206201  54.7  110.6   82.650000\n",
       "380633         night owl   206202  19.1  122.6   70.287500\n",
       "380634         night owl   206207  42.8   50.8   46.800000\n",
       "380635         night owl   206208  38.7  149.4  110.075000\n",
       "\n",
       "[380636 rows x 5 columns]"
      ]
     },
     "execution_count": 24,
     "metadata": {},
     "output_type": "execute_result"
    }
   ],
   "source": [
    "# view the expenditure statistics for each customer\n",
    "behavior_shopper_total"
   ]
  },
  {
   "cell_type": "code",
   "execution_count": 104,
   "id": "3228ffff",
   "metadata": {},
   "outputs": [],
   "source": [
    "# find the expenditure statistics for each behavior flag\n",
    "behavior_price_stats = behavior_shopper_total.groupby('shopping_behavior').agg({'min':'min', 'max':'max', 'mean':'mean'}).reset_index()"
   ]
  },
  {
   "cell_type": "code",
   "execution_count": 105,
   "id": "209b5efb",
   "metadata": {},
   "outputs": [
    {
     "data": {
      "text/html": [
       "<div>\n",
       "<style scoped>\n",
       "    .dataframe tbody tr th:only-of-type {\n",
       "        vertical-align: middle;\n",
       "    }\n",
       "\n",
       "    .dataframe tbody tr th {\n",
       "        vertical-align: top;\n",
       "    }\n",
       "\n",
       "    .dataframe thead th {\n",
       "        text-align: right;\n",
       "    }\n",
       "</style>\n",
       "<table border=\"1\" class=\"dataframe\">\n",
       "  <thead>\n",
       "    <tr style=\"text-align: right;\">\n",
       "      <th></th>\n",
       "      <th>shopping_behavior</th>\n",
       "      <th>min</th>\n",
       "      <th>max</th>\n",
       "      <th>mean</th>\n",
       "    </tr>\n",
       "  </thead>\n",
       "  <tbody>\n",
       "    <tr>\n",
       "      <th>0</th>\n",
       "      <td>Regular</td>\n",
       "      <td>0.0</td>\n",
       "      <td>1092.2</td>\n",
       "      <td>77.284687</td>\n",
       "    </tr>\n",
       "    <tr>\n",
       "      <th>1</th>\n",
       "      <td>early bird</td>\n",
       "      <td>0.0</td>\n",
       "      <td>721.0</td>\n",
       "      <td>78.396620</td>\n",
       "    </tr>\n",
       "    <tr>\n",
       "      <th>2</th>\n",
       "      <td>night owl</td>\n",
       "      <td>0.0</td>\n",
       "      <td>875.0</td>\n",
       "      <td>82.121470</td>\n",
       "    </tr>\n",
       "  </tbody>\n",
       "</table>\n",
       "</div>"
      ],
      "text/plain": [
       "  shopping_behavior  min     max       mean\n",
       "0           Regular  0.0  1092.2  77.284687\n",
       "1        early bird  0.0   721.0  78.396620\n",
       "2         night owl  0.0   875.0  82.121470"
      ]
     },
     "execution_count": 105,
     "metadata": {},
     "output_type": "execute_result"
    }
   ],
   "source": [
    "# view expenditure statistics for each behavior flag\n",
    "behavior_price_stats"
   ]
  },
  {
   "cell_type": "code",
   "execution_count": 111,
   "id": "de37bc1e",
   "metadata": {},
   "outputs": [
    {
     "data": {
      "image/png": "[encoded data removed]",
      "text/plain": [
       "<Figure size 640x480 with 1 Axes>"
      ]
     },
     "metadata": {},
     "output_type": "display_data"
    }
   ],
   "source": [
    "# create bar chart for average order expense per shopping behavior\n",
    "\n",
    "# create table with average order expense \n",
    "behavior_price_bar = sns.barplot(x = 'shopping_behavior', y = 'mean', data = behavior_price_stats, color = '#EC7063')\n",
    "\n",
    "# adjust plot size\n",
    "plt.subplots_adjust(bottom=0.2)\n",
    "\n",
    "# add axis and title labels\n",
    "plt.xlabel('Shopping Behavior')\n",
    "plt.ylabel('Average Expenditure')\n",
    "plt.title('Average Expenditure per Shopping Behavior')\n",
    "\n",
    "# add x tick labels, position adjusted\n",
    "plt.xticks(rotation = 45, ha = 'right')\n",
    "\n",
    "# save figure\n",
    "plt.savefig(r'C:\\Users\\kacie\\Box\\Personal\\CareerFoundry\\Data Immersion\\Achievement 4\\Jupyter Folders\\New Visualzations\\behavior_price_bar.png')\n"
   ]
  },
  {
   "cell_type": "markdown",
   "id": "84d9ab3c",
   "metadata": {},
   "source": [
    "### Analyze customer shopping behavior by department"
   ]
  },
  {
   "cell_type": "code",
   "execution_count": 27,
   "id": "b9be2c80",
   "metadata": {},
   "outputs": [],
   "source": [
    "# create a crosstable with shopping behavior and department id\n",
    "behavior_dep_cross = pd.crosstab(ord_prod_full['department_id'], ord_prod_full['shopping_behavior'], dropna = False)"
   ]
  },
  {
   "cell_type": "code",
   "execution_count": 28,
   "id": "baf8655a",
   "metadata": {},
   "outputs": [
    {
     "data": {
      "text/html": [
       "<div>\n",
       "<style scoped>\n",
       "    .dataframe tbody tr th:only-of-type {\n",
       "        vertical-align: middle;\n",
       "    }\n",
       "\n",
       "    .dataframe tbody tr th {\n",
       "        vertical-align: top;\n",
       "    }\n",
       "\n",
       "    .dataframe thead th {\n",
       "        text-align: right;\n",
       "    }\n",
       "</style>\n",
       "<table border=\"1\" class=\"dataframe\">\n",
       "  <thead>\n",
       "    <tr style=\"text-align: right;\">\n",
       "      <th>shopping_behavior</th>\n",
       "      <th>Regular</th>\n",
       "      <th>early bird</th>\n",
       "      <th>night owl</th>\n",
       "    </tr>\n",
       "    <tr>\n",
       "      <th>department_id</th>\n",
       "      <th></th>\n",
       "      <th></th>\n",
       "      <th></th>\n",
       "    </tr>\n",
       "  </thead>\n",
       "  <tbody>\n",
       "    <tr>\n",
       "      <th>1.0</th>\n",
       "      <td>1883509</td>\n",
       "      <td>187469</td>\n",
       "      <td>163765</td>\n",
       "    </tr>\n",
       "    <tr>\n",
       "      <th>2.0</th>\n",
       "      <td>30555</td>\n",
       "      <td>3154</td>\n",
       "      <td>2582</td>\n",
       "    </tr>\n",
       "    <tr>\n",
       "      <th>3.0</th>\n",
       "      <td>981938</td>\n",
       "      <td>111607</td>\n",
       "      <td>78883</td>\n",
       "    </tr>\n",
       "    <tr>\n",
       "      <th>4.0</th>\n",
       "      <td>7856103</td>\n",
       "      <td>893539</td>\n",
       "      <td>729649</td>\n",
       "    </tr>\n",
       "    <tr>\n",
       "      <th>5.0</th>\n",
       "      <td>139590</td>\n",
       "      <td>8351</td>\n",
       "      <td>5755</td>\n",
       "    </tr>\n",
       "    <tr>\n",
       "      <th>6.0</th>\n",
       "      <td>227236</td>\n",
       "      <td>21936</td>\n",
       "      <td>20081</td>\n",
       "    </tr>\n",
       "    <tr>\n",
       "      <th>7.0</th>\n",
       "      <td>2276338</td>\n",
       "      <td>239403</td>\n",
       "      <td>172382</td>\n",
       "    </tr>\n",
       "    <tr>\n",
       "      <th>8.0</th>\n",
       "      <td>83105</td>\n",
       "      <td>8292</td>\n",
       "      <td>6319</td>\n",
       "    </tr>\n",
       "    <tr>\n",
       "      <th>9.0</th>\n",
       "      <td>726933</td>\n",
       "      <td>75871</td>\n",
       "      <td>63823</td>\n",
       "    </tr>\n",
       "    <tr>\n",
       "      <th>10.0</th>\n",
       "      <td>28728</td>\n",
       "      <td>3132</td>\n",
       "      <td>2713</td>\n",
       "    </tr>\n",
       "    <tr>\n",
       "      <th>11.0</th>\n",
       "      <td>374133</td>\n",
       "      <td>40902</td>\n",
       "      <td>32537</td>\n",
       "    </tr>\n",
       "    <tr>\n",
       "      <th>12.0</th>\n",
       "      <td>594282</td>\n",
       "      <td>64414</td>\n",
       "      <td>50231</td>\n",
       "    </tr>\n",
       "    <tr>\n",
       "      <th>13.0</th>\n",
       "      <td>1571763</td>\n",
       "      <td>162905</td>\n",
       "      <td>140701</td>\n",
       "    </tr>\n",
       "    <tr>\n",
       "      <th>14.0</th>\n",
       "      <td>581939</td>\n",
       "      <td>71223</td>\n",
       "      <td>49871</td>\n",
       "    </tr>\n",
       "    <tr>\n",
       "      <th>15.0</th>\n",
       "      <td>897861</td>\n",
       "      <td>91664</td>\n",
       "      <td>78533</td>\n",
       "    </tr>\n",
       "    <tr>\n",
       "      <th>16.0</th>\n",
       "      <td>4481708</td>\n",
       "      <td>531558</td>\n",
       "      <td>385481</td>\n",
       "    </tr>\n",
       "    <tr>\n",
       "      <th>17.0</th>\n",
       "      <td>617084</td>\n",
       "      <td>69647</td>\n",
       "      <td>51935</td>\n",
       "    </tr>\n",
       "    <tr>\n",
       "      <th>18.0</th>\n",
       "      <td>336204</td>\n",
       "      <td>51579</td>\n",
       "      <td>36019</td>\n",
       "    </tr>\n",
       "    <tr>\n",
       "      <th>19.0</th>\n",
       "      <td>2444270</td>\n",
       "      <td>252829</td>\n",
       "      <td>190451</td>\n",
       "    </tr>\n",
       "    <tr>\n",
       "      <th>20.0</th>\n",
       "      <td>885800</td>\n",
       "      <td>92006</td>\n",
       "      <td>73443</td>\n",
       "    </tr>\n",
       "    <tr>\n",
       "      <th>21.0</th>\n",
       "      <td>57609</td>\n",
       "      <td>6145</td>\n",
       "      <td>5391</td>\n",
       "    </tr>\n",
       "  </tbody>\n",
       "</table>\n",
       "</div>"
      ],
      "text/plain": [
       "shopping_behavior  Regular  early bird  night owl\n",
       "department_id                                    \n",
       "1.0                1883509      187469     163765\n",
       "2.0                  30555        3154       2582\n",
       "3.0                 981938      111607      78883\n",
       "4.0                7856103      893539     729649\n",
       "5.0                 139590        8351       5755\n",
       "6.0                 227236       21936      20081\n",
       "7.0                2276338      239403     172382\n",
       "8.0                  83105        8292       6319\n",
       "9.0                 726933       75871      63823\n",
       "10.0                 28728        3132       2713\n",
       "11.0                374133       40902      32537\n",
       "12.0                594282       64414      50231\n",
       "13.0               1571763      162905     140701\n",
       "14.0                581939       71223      49871\n",
       "15.0                897861       91664      78533\n",
       "16.0               4481708      531558     385481\n",
       "17.0                617084       69647      51935\n",
       "18.0                336204       51579      36019\n",
       "19.0               2444270      252829     190451\n",
       "20.0                885800       92006      73443\n",
       "21.0                 57609        6145       5391"
      ]
     },
     "execution_count": 28,
     "metadata": {},
     "output_type": "execute_result"
    }
   ],
   "source": [
    "# view crosstable\n",
    "behavior_dep_cross"
   ]
  },
  {
   "cell_type": "code",
   "execution_count": 29,
   "id": "0d4585b6",
   "metadata": {},
   "outputs": [],
   "source": [
    "# create long table to use for clustered bar graph\n",
    "dep_behavior_long = behavior_dep_cross.reset_index().melt(id_vars='department_id', var_name='shopping_behavior', value_name='count')"
   ]
  },
  {
   "cell_type": "code",
   "execution_count": 33,
   "id": "38d65904",
   "metadata": {},
   "outputs": [
    {
     "data": {
      "image/png": "[encoded data removed]",
      "text/plain": [
       "<Figure size 640x480 with 1 Axes>"
      ]
     },
     "metadata": {},
     "output_type": "display_data"
    }
   ],
   "source": [
    "# create clustered bar graph for shopping behavior and department\n",
    "dep_beh_bar = sns.barplot(x='department_id', y='count', hue='shopping_behavior', data=dep_behavior_long )"
   ]
  },
  {
   "cell_type": "code",
   "execution_count": 113,
   "id": "f48f568a",
   "metadata": {},
   "outputs": [
    {
     "data": {
      "image/png": "[encoded data removed]",
      "text/plain": [
       "<Figure size 640x480 with 1 Axes>"
      ]
     },
     "metadata": {},
     "output_type": "display_data"
    }
   ],
   "source": [
    "# create stacked line chart for number of orders per department per shopping behavior with color\n",
    "beh_dep_line = behavior_dep_cross.plot(kind = 'line', stacked = True, color = ['#E6B0AA', '#CD6155', '#7B241C'])\n",
    "\n",
    "# adjust plot size\n",
    "plt.subplots_adjust(bottom=0.2)\n",
    "\n",
    "# add axis and title labels\n",
    "plt.title('Order Timing Relationship to Department')\n",
    "plt.xlabel('Department ID')\n",
    "plt.ylabel('Number of Orders')\n",
    "\n",
    "\n",
    "# add x tick mark labels, position adjusted\n",
    "plt.xticks(rotation=45, ha='right')\n",
    "\n",
    "\n",
    "# add legend title\n",
    "plt.legend(title='Shopping Behavior')\n",
    "\n",
    "# save figure\n",
    "plt.savefig(r'C:\\Users\\kacie\\Box\\Personal\\CareerFoundry\\Data Immersion\\Achievement 4\\Jupyter Folders\\New Visualzations\\behavior_dep_bar.png')\n"
   ]
  },
  {
   "cell_type": "markdown",
   "id": "b45224e6",
   "metadata": {},
   "source": [
    "### Analyze customer shopping behavior by region"
   ]
  },
  {
   "cell_type": "code",
   "execution_count": 34,
   "id": "0424e008",
   "metadata": {},
   "outputs": [],
   "source": [
    "# create crosstable with shopping behavior, region, and department\n",
    "behavior_reg_dep_cross = pd.crosstab(index=[ord_prod_full['Region'], ord_prod_full['shopping_behavior']],\n",
    "                                        columns=ord_prod_full['department_id'],\n",
    "                                        dropna=False)"
   ]
  },
  {
   "cell_type": "code",
   "execution_count": 35,
   "id": "ea2bc686",
   "metadata": {},
   "outputs": [
    {
     "data": {
      "text/html": [
       "<div>\n",
       "<style scoped>\n",
       "    .dataframe tbody tr th:only-of-type {\n",
       "        vertical-align: middle;\n",
       "    }\n",
       "\n",
       "    .dataframe tbody tr th {\n",
       "        vertical-align: top;\n",
       "    }\n",
       "\n",
       "    .dataframe thead th {\n",
       "        text-align: right;\n",
       "    }\n",
       "</style>\n",
       "<table border=\"1\" class=\"dataframe\">\n",
       "  <thead>\n",
       "    <tr style=\"text-align: right;\">\n",
       "      <th></th>\n",
       "      <th>department_id</th>\n",
       "      <th>1.0</th>\n",
       "      <th>2.0</th>\n",
       "      <th>3.0</th>\n",
       "      <th>4.0</th>\n",
       "      <th>5.0</th>\n",
       "      <th>6.0</th>\n",
       "      <th>7.0</th>\n",
       "      <th>8.0</th>\n",
       "      <th>9.0</th>\n",
       "      <th>10.0</th>\n",
       "      <th>...</th>\n",
       "      <th>12.0</th>\n",
       "      <th>13.0</th>\n",
       "      <th>14.0</th>\n",
       "      <th>15.0</th>\n",
       "      <th>16.0</th>\n",
       "      <th>17.0</th>\n",
       "      <th>18.0</th>\n",
       "      <th>19.0</th>\n",
       "      <th>20.0</th>\n",
       "      <th>21.0</th>\n",
       "    </tr>\n",
       "    <tr>\n",
       "      <th>Region</th>\n",
       "      <th>shopping_behavior</th>\n",
       "      <th></th>\n",
       "      <th></th>\n",
       "      <th></th>\n",
       "      <th></th>\n",
       "      <th></th>\n",
       "      <th></th>\n",
       "      <th></th>\n",
       "      <th></th>\n",
       "      <th></th>\n",
       "      <th></th>\n",
       "      <th></th>\n",
       "      <th></th>\n",
       "      <th></th>\n",
       "      <th></th>\n",
       "      <th></th>\n",
       "      <th></th>\n",
       "      <th></th>\n",
       "      <th></th>\n",
       "      <th></th>\n",
       "      <th></th>\n",
       "      <th></th>\n",
       "    </tr>\n",
       "  </thead>\n",
       "  <tbody>\n",
       "    <tr>\n",
       "      <th rowspan=\"3\" valign=\"top\">Midwest</th>\n",
       "      <th>Regular</th>\n",
       "      <td>441578</td>\n",
       "      <td>7050</td>\n",
       "      <td>229102</td>\n",
       "      <td>1848724</td>\n",
       "      <td>32988</td>\n",
       "      <td>53813</td>\n",
       "      <td>529984</td>\n",
       "      <td>18868</td>\n",
       "      <td>171126</td>\n",
       "      <td>6802</td>\n",
       "      <td>...</td>\n",
       "      <td>139531</td>\n",
       "      <td>370650</td>\n",
       "      <td>135444</td>\n",
       "      <td>210685</td>\n",
       "      <td>1049484</td>\n",
       "      <td>147020</td>\n",
       "      <td>78518</td>\n",
       "      <td>570480</td>\n",
       "      <td>206985</td>\n",
       "      <td>13744</td>\n",
       "    </tr>\n",
       "    <tr>\n",
       "      <th>early bird</th>\n",
       "      <td>43526</td>\n",
       "      <td>757</td>\n",
       "      <td>25942</td>\n",
       "      <td>206995</td>\n",
       "      <td>1951</td>\n",
       "      <td>5119</td>\n",
       "      <td>55226</td>\n",
       "      <td>1787</td>\n",
       "      <td>17558</td>\n",
       "      <td>747</td>\n",
       "      <td>...</td>\n",
       "      <td>14757</td>\n",
       "      <td>38216</td>\n",
       "      <td>16407</td>\n",
       "      <td>21294</td>\n",
       "      <td>123708</td>\n",
       "      <td>16297</td>\n",
       "      <td>11729</td>\n",
       "      <td>59088</td>\n",
       "      <td>21329</td>\n",
       "      <td>1496</td>\n",
       "    </tr>\n",
       "    <tr>\n",
       "      <th>night owl</th>\n",
       "      <td>38992</td>\n",
       "      <td>613</td>\n",
       "      <td>18825</td>\n",
       "      <td>172218</td>\n",
       "      <td>1247</td>\n",
       "      <td>4804</td>\n",
       "      <td>40364</td>\n",
       "      <td>1700</td>\n",
       "      <td>15085</td>\n",
       "      <td>644</td>\n",
       "      <td>...</td>\n",
       "      <td>11841</td>\n",
       "      <td>33235</td>\n",
       "      <td>11700</td>\n",
       "      <td>18723</td>\n",
       "      <td>91031</td>\n",
       "      <td>12507</td>\n",
       "      <td>8736</td>\n",
       "      <td>44147</td>\n",
       "      <td>17364</td>\n",
       "      <td>1295</td>\n",
       "    </tr>\n",
       "    <tr>\n",
       "      <th rowspan=\"3\" valign=\"top\">Northeast</th>\n",
       "      <th>Regular</th>\n",
       "      <td>329512</td>\n",
       "      <td>5566</td>\n",
       "      <td>174445</td>\n",
       "      <td>1377380</td>\n",
       "      <td>24108</td>\n",
       "      <td>39686</td>\n",
       "      <td>407659</td>\n",
       "      <td>15712</td>\n",
       "      <td>127160</td>\n",
       "      <td>4765</td>\n",
       "      <td>...</td>\n",
       "      <td>104254</td>\n",
       "      <td>276399</td>\n",
       "      <td>101629</td>\n",
       "      <td>156724</td>\n",
       "      <td>789129</td>\n",
       "      <td>110018</td>\n",
       "      <td>59291</td>\n",
       "      <td>434753</td>\n",
       "      <td>157123</td>\n",
       "      <td>10292</td>\n",
       "    </tr>\n",
       "    <tr>\n",
       "      <th>early bird</th>\n",
       "      <td>32070</td>\n",
       "      <td>567</td>\n",
       "      <td>19912</td>\n",
       "      <td>156973</td>\n",
       "      <td>1413</td>\n",
       "      <td>3811</td>\n",
       "      <td>43529</td>\n",
       "      <td>1765</td>\n",
       "      <td>13306</td>\n",
       "      <td>571</td>\n",
       "      <td>...</td>\n",
       "      <td>11302</td>\n",
       "      <td>28181</td>\n",
       "      <td>13180</td>\n",
       "      <td>16170</td>\n",
       "      <td>95697</td>\n",
       "      <td>12383</td>\n",
       "      <td>9489</td>\n",
       "      <td>45231</td>\n",
       "      <td>16371</td>\n",
       "      <td>1093</td>\n",
       "    </tr>\n",
       "    <tr>\n",
       "      <th>night owl</th>\n",
       "      <td>29336</td>\n",
       "      <td>452</td>\n",
       "      <td>14242</td>\n",
       "      <td>131486</td>\n",
       "      <td>1021</td>\n",
       "      <td>3394</td>\n",
       "      <td>32230</td>\n",
       "      <td>1124</td>\n",
       "      <td>11350</td>\n",
       "      <td>466</td>\n",
       "      <td>...</td>\n",
       "      <td>9064</td>\n",
       "      <td>24865</td>\n",
       "      <td>8765</td>\n",
       "      <td>13861</td>\n",
       "      <td>69200</td>\n",
       "      <td>9084</td>\n",
       "      <td>6359</td>\n",
       "      <td>34691</td>\n",
       "      <td>13323</td>\n",
       "      <td>989</td>\n",
       "    </tr>\n",
       "    <tr>\n",
       "      <th rowspan=\"3\" valign=\"top\">South</th>\n",
       "      <th>Regular</th>\n",
       "      <td>629117</td>\n",
       "      <td>10275</td>\n",
       "      <td>325170</td>\n",
       "      <td>2615033</td>\n",
       "      <td>46719</td>\n",
       "      <td>74947</td>\n",
       "      <td>760558</td>\n",
       "      <td>26882</td>\n",
       "      <td>240720</td>\n",
       "      <td>9604</td>\n",
       "      <td>...</td>\n",
       "      <td>197113</td>\n",
       "      <td>520422</td>\n",
       "      <td>194316</td>\n",
       "      <td>299201</td>\n",
       "      <td>1491682</td>\n",
       "      <td>203051</td>\n",
       "      <td>113406</td>\n",
       "      <td>809103</td>\n",
       "      <td>294209</td>\n",
       "      <td>19314</td>\n",
       "    </tr>\n",
       "    <tr>\n",
       "      <th>early bird</th>\n",
       "      <td>64185</td>\n",
       "      <td>1043</td>\n",
       "      <td>37631</td>\n",
       "      <td>302465</td>\n",
       "      <td>2885</td>\n",
       "      <td>7374</td>\n",
       "      <td>80897</td>\n",
       "      <td>2575</td>\n",
       "      <td>25668</td>\n",
       "      <td>1050</td>\n",
       "      <td>...</td>\n",
       "      <td>21845</td>\n",
       "      <td>54928</td>\n",
       "      <td>23332</td>\n",
       "      <td>30803</td>\n",
       "      <td>177657</td>\n",
       "      <td>22988</td>\n",
       "      <td>17865</td>\n",
       "      <td>84209</td>\n",
       "      <td>31075</td>\n",
       "      <td>2093</td>\n",
       "    </tr>\n",
       "    <tr>\n",
       "      <th>night owl</th>\n",
       "      <td>54598</td>\n",
       "      <td>894</td>\n",
       "      <td>26014</td>\n",
       "      <td>243053</td>\n",
       "      <td>2020</td>\n",
       "      <td>6821</td>\n",
       "      <td>57485</td>\n",
       "      <td>1812</td>\n",
       "      <td>21056</td>\n",
       "      <td>879</td>\n",
       "      <td>...</td>\n",
       "      <td>16794</td>\n",
       "      <td>47086</td>\n",
       "      <td>16603</td>\n",
       "      <td>26011</td>\n",
       "      <td>127630</td>\n",
       "      <td>17031</td>\n",
       "      <td>12383</td>\n",
       "      <td>64034</td>\n",
       "      <td>24135</td>\n",
       "      <td>1786</td>\n",
       "    </tr>\n",
       "    <tr>\n",
       "      <th rowspan=\"3\" valign=\"top\">West</th>\n",
       "      <th>Regular</th>\n",
       "      <td>483302</td>\n",
       "      <td>7664</td>\n",
       "      <td>253221</td>\n",
       "      <td>2014966</td>\n",
       "      <td>35775</td>\n",
       "      <td>58790</td>\n",
       "      <td>578137</td>\n",
       "      <td>21643</td>\n",
       "      <td>187927</td>\n",
       "      <td>7557</td>\n",
       "      <td>...</td>\n",
       "      <td>153384</td>\n",
       "      <td>404292</td>\n",
       "      <td>150550</td>\n",
       "      <td>231251</td>\n",
       "      <td>1151413</td>\n",
       "      <td>156995</td>\n",
       "      <td>84989</td>\n",
       "      <td>629934</td>\n",
       "      <td>227483</td>\n",
       "      <td>14259</td>\n",
       "    </tr>\n",
       "    <tr>\n",
       "      <th>early bird</th>\n",
       "      <td>47688</td>\n",
       "      <td>787</td>\n",
       "      <td>28122</td>\n",
       "      <td>227106</td>\n",
       "      <td>2102</td>\n",
       "      <td>5632</td>\n",
       "      <td>59751</td>\n",
       "      <td>2165</td>\n",
       "      <td>19339</td>\n",
       "      <td>764</td>\n",
       "      <td>...</td>\n",
       "      <td>16510</td>\n",
       "      <td>41580</td>\n",
       "      <td>18304</td>\n",
       "      <td>23397</td>\n",
       "      <td>134496</td>\n",
       "      <td>17979</td>\n",
       "      <td>12496</td>\n",
       "      <td>64301</td>\n",
       "      <td>23231</td>\n",
       "      <td>1463</td>\n",
       "    </tr>\n",
       "    <tr>\n",
       "      <th>night owl</th>\n",
       "      <td>40839</td>\n",
       "      <td>623</td>\n",
       "      <td>19802</td>\n",
       "      <td>182892</td>\n",
       "      <td>1467</td>\n",
       "      <td>5062</td>\n",
       "      <td>42303</td>\n",
       "      <td>1683</td>\n",
       "      <td>16332</td>\n",
       "      <td>724</td>\n",
       "      <td>...</td>\n",
       "      <td>12532</td>\n",
       "      <td>35515</td>\n",
       "      <td>12803</td>\n",
       "      <td>19938</td>\n",
       "      <td>97620</td>\n",
       "      <td>13313</td>\n",
       "      <td>8541</td>\n",
       "      <td>47579</td>\n",
       "      <td>18621</td>\n",
       "      <td>1321</td>\n",
       "    </tr>\n",
       "  </tbody>\n",
       "</table>\n",
       "<p>12 rows × 21 columns</p>\n",
       "</div>"
      ],
      "text/plain": [
       "department_id                  1.0    2.0     3.0      4.0    5.0    6.0   \\\n",
       "Region    shopping_behavior                                                 \n",
       "Midwest   Regular            441578   7050  229102  1848724  32988  53813   \n",
       "          early bird          43526    757   25942   206995   1951   5119   \n",
       "          night owl           38992    613   18825   172218   1247   4804   \n",
       "Northeast Regular            329512   5566  174445  1377380  24108  39686   \n",
       "          early bird          32070    567   19912   156973   1413   3811   \n",
       "          night owl           29336    452   14242   131486   1021   3394   \n",
       "South     Regular            629117  10275  325170  2615033  46719  74947   \n",
       "          early bird          64185   1043   37631   302465   2885   7374   \n",
       "          night owl           54598    894   26014   243053   2020   6821   \n",
       "West      Regular            483302   7664  253221  2014966  35775  58790   \n",
       "          early bird          47688    787   28122   227106   2102   5632   \n",
       "          night owl           40839    623   19802   182892   1467   5062   \n",
       "\n",
       "department_id                  7.0    8.0     9.0   10.0  ...    12.0    13.0  \\\n",
       "Region    shopping_behavior                               ...                   \n",
       "Midwest   Regular            529984  18868  171126  6802  ...  139531  370650   \n",
       "          early bird          55226   1787   17558   747  ...   14757   38216   \n",
       "          night owl           40364   1700   15085   644  ...   11841   33235   \n",
       "Northeast Regular            407659  15712  127160  4765  ...  104254  276399   \n",
       "          early bird          43529   1765   13306   571  ...   11302   28181   \n",
       "          night owl           32230   1124   11350   466  ...    9064   24865   \n",
       "South     Regular            760558  26882  240720  9604  ...  197113  520422   \n",
       "          early bird          80897   2575   25668  1050  ...   21845   54928   \n",
       "          night owl           57485   1812   21056   879  ...   16794   47086   \n",
       "West      Regular            578137  21643  187927  7557  ...  153384  404292   \n",
       "          early bird          59751   2165   19339   764  ...   16510   41580   \n",
       "          night owl           42303   1683   16332   724  ...   12532   35515   \n",
       "\n",
       "department_id                  14.0    15.0     16.0    17.0    18.0    19.0  \\\n",
       "Region    shopping_behavior                                                    \n",
       "Midwest   Regular            135444  210685  1049484  147020   78518  570480   \n",
       "          early bird          16407   21294   123708   16297   11729   59088   \n",
       "          night owl           11700   18723    91031   12507    8736   44147   \n",
       "Northeast Regular            101629  156724   789129  110018   59291  434753   \n",
       "          early bird          13180   16170    95697   12383    9489   45231   \n",
       "          night owl            8765   13861    69200    9084    6359   34691   \n",
       "South     Regular            194316  299201  1491682  203051  113406  809103   \n",
       "          early bird          23332   30803   177657   22988   17865   84209   \n",
       "          night owl           16603   26011   127630   17031   12383   64034   \n",
       "West      Regular            150550  231251  1151413  156995   84989  629934   \n",
       "          early bird          18304   23397   134496   17979   12496   64301   \n",
       "          night owl           12803   19938    97620   13313    8541   47579   \n",
       "\n",
       "department_id                  20.0   21.0  \n",
       "Region    shopping_behavior                 \n",
       "Midwest   Regular            206985  13744  \n",
       "          early bird          21329   1496  \n",
       "          night owl           17364   1295  \n",
       "Northeast Regular            157123  10292  \n",
       "          early bird          16371   1093  \n",
       "          night owl           13323    989  \n",
       "South     Regular            294209  19314  \n",
       "          early bird          31075   2093  \n",
       "          night owl           24135   1786  \n",
       "West      Regular            227483  14259  \n",
       "          early bird          23231   1463  \n",
       "          night owl           18621   1321  \n",
       "\n",
       "[12 rows x 21 columns]"
      ]
     },
     "execution_count": 35,
     "metadata": {},
     "output_type": "execute_result"
    }
   ],
   "source": [
    "# view crosstable\n",
    "behavior_reg_dep_cross"
   ]
  },
  {
   "cell_type": "code",
   "execution_count": 36,
   "id": "09c5c4e6",
   "metadata": {},
   "outputs": [],
   "source": [
    "# create a crosstable with shopping behavior and region\n",
    "reg_behavior_cross = pd.crosstab(ord_prod_full['Region'], ord_prod_full['shopping_behavior'])"
   ]
  },
  {
   "cell_type": "code",
   "execution_count": 37,
   "id": "aef41e20",
   "metadata": {},
   "outputs": [
    {
     "data": {
      "text/html": [
       "<div>\n",
       "<style scoped>\n",
       "    .dataframe tbody tr th:only-of-type {\n",
       "        vertical-align: middle;\n",
       "    }\n",
       "\n",
       "    .dataframe tbody tr th {\n",
       "        vertical-align: top;\n",
       "    }\n",
       "\n",
       "    .dataframe thead th {\n",
       "        text-align: right;\n",
       "    }\n",
       "</style>\n",
       "<table border=\"1\" class=\"dataframe\">\n",
       "  <thead>\n",
       "    <tr style=\"text-align: right;\">\n",
       "      <th>shopping_behavior</th>\n",
       "      <th>Regular</th>\n",
       "      <th>early bird</th>\n",
       "      <th>night owl</th>\n",
       "    </tr>\n",
       "    <tr>\n",
       "      <th>Region</th>\n",
       "      <th></th>\n",
       "      <th></th>\n",
       "      <th></th>\n",
       "    </tr>\n",
       "  </thead>\n",
       "  <tbody>\n",
       "    <tr>\n",
       "      <th>Midwest</th>\n",
       "      <td>6356548</td>\n",
       "      <td>694274</td>\n",
       "      <td>553194</td>\n",
       "    </tr>\n",
       "    <tr>\n",
       "      <th>Northeast</th>\n",
       "      <td>4776354</td>\n",
       "      <td>530845</td>\n",
       "      <td>421245</td>\n",
       "    </tr>\n",
       "    <tr>\n",
       "      <th>South</th>\n",
       "      <td>9014761</td>\n",
       "      <td>1007355</td>\n",
       "      <td>779866</td>\n",
       "    </tr>\n",
       "    <tr>\n",
       "      <th>West</th>\n",
       "      <td>6954073</td>\n",
       "      <td>758328</td>\n",
       "      <td>588216</td>\n",
       "    </tr>\n",
       "  </tbody>\n",
       "</table>\n",
       "</div>"
      ],
      "text/plain": [
       "shopping_behavior  Regular  early bird  night owl\n",
       "Region                                           \n",
       "Midwest            6356548      694274     553194\n",
       "Northeast          4776354      530845     421245\n",
       "South              9014761     1007355     779866\n",
       "West               6954073      758328     588216"
      ]
     },
     "execution_count": 37,
     "metadata": {},
     "output_type": "execute_result"
    }
   ],
   "source": [
    "# view crosstable\n",
    "reg_behavior_cross"
   ]
  },
  {
   "cell_type": "code",
   "execution_count": 38,
   "id": "2dd402f4",
   "metadata": {},
   "outputs": [],
   "source": [
    "# create long table for clustered bar graph\n",
    "reg_behavior_long = reg_behavior_cross.reset_index().melt(id_vars='Region', var_name='shopping_behavior', value_name='count')"
   ]
  },
  {
   "cell_type": "code",
   "execution_count": 115,
   "id": "5711357e",
   "metadata": {},
   "outputs": [
    {
     "data": {
      "image/png": "[encoded data removed]",
      "text/plain": [
       "<Figure size 640x480 with 1 Axes>"
      ]
     },
     "metadata": {},
     "output_type": "display_data"
    }
   ],
   "source": [
    "# create clustered bar graph for region and shopping behavior\n",
    "reg_beh_bar = sns.barplot(x='Region', y='count', hue='shopping_behavior', data=reg_behavior_long, palette = ['#7B241C', '#CD6155', '#E6B0AA'])\n",
    "\n",
    "\n",
    "# add axis, title, and legend labels\n",
    "plt.xlabel('Region')\n",
    "plt.ylabel('Order Count')\n",
    "plt.title('Relationship between Order Timing and Order Number')\n",
    "plt.legend(title = 'Shopping Behavior')\n",
    "\n",
    "# save figure\n",
    "plt.savefig(r'C:\\Users\\kacie\\Box\\Personal\\CareerFoundry\\Data Immersion\\Achievement 4\\Jupyter Folders\\New Visualzations\\behavior_region_bar.png')\n"
   ]
  },
  {
   "cell_type": "code",
   "execution_count": null,
   "id": "65e90578",
   "metadata": {},
   "outputs": [],
   "source": []
  },
  {
   "cell_type": "markdown",
   "id": "adf83cd3",
   "metadata": {},
   "source": [
    "## Analyze Customer Lifestyle"
   ]
  },
  {
   "cell_type": "markdown",
   "id": "c0afbe6d",
   "metadata": {},
   "source": [
    "### Create a customer lifestyle flag based on income and marital status"
   ]
  },
  {
   "cell_type": "code",
   "execution_count": 40,
   "id": "7049d4da",
   "metadata": {},
   "outputs": [
    {
     "data": {
      "text/plain": [
       "count    3.243506e+07\n",
       "mean     9.943550e+04\n",
       "std      4.305540e+04\n",
       "min      2.590300e+04\n",
       "25%      6.700200e+04\n",
       "50%      9.661200e+04\n",
       "75%      1.279080e+05\n",
       "max      5.939010e+05\n",
       "Name: income, dtype: float64"
      ]
     },
     "execution_count": 40,
     "metadata": {},
     "output_type": "execute_result"
    }
   ],
   "source": [
    "# find statistics for customer incomes\n",
    "ord_prod_full['income'].describe()"
   ]
  },
  {
   "cell_type": "code",
   "execution_count": 41,
   "id": "c8e6f149",
   "metadata": {},
   "outputs": [],
   "source": [
    "# set the lifestyle flag for single, low-income\n",
    "# low-income at or below 30k\n",
    "# making the assumption that those living with parents and siblings are single\n",
    "ord_prod_full.loc[(ord_prod_full['fam_status'].isin(['single', 'divorced/widowed', 'living with parents and siblings'])) & (ord_prod_full['income'] <= 30000), 'lifestyle'] = 'single, low-income'\n"
   ]
  },
  {
   "cell_type": "code",
   "execution_count": 42,
   "id": "0d4d8d86",
   "metadata": {},
   "outputs": [],
   "source": [
    "# set the lifestyle flag for single, middle-income\n",
    "# middle-income set between 30k and 80k\n",
    "ord_prod_full.loc[(ord_prod_full['fam_status'].isin(['single', 'divorced/widowed', 'living with parents and siblings'])) & (ord_prod_full['income'] > 30000) & (ord_prod_full['income'] <= 80000), 'lifestyle'] = 'single, middle-income'"
   ]
  },
  {
   "cell_type": "code",
   "execution_count": 43,
   "id": "2410963b",
   "metadata": {},
   "outputs": [],
   "source": [
    "# set the lifestyle flag for single, high-income\n",
    "# high-income set above 80k\n",
    "ord_prod_full.loc[(ord_prod_full['fam_status'].isin(['single', 'divorced/widowed', 'living with parents and siblings'])) & (ord_prod_full['income'] > 80000), 'lifestyle'] = 'single, high-income'"
   ]
  },
  {
   "cell_type": "code",
   "execution_count": 44,
   "id": "df6106d6",
   "metadata": {},
   "outputs": [],
   "source": [
    "# set the lifestyle flag for married, low-income\n",
    "# low-income at or below 60k\n",
    "ord_prod_full.loc[(ord_prod_full['fam_status'] == 'married') & (ord_prod_full['income'] <= 60000), 'lifestyle'] = 'married, low-income'"
   ]
  },
  {
   "cell_type": "code",
   "execution_count": 45,
   "id": "cb9046f6",
   "metadata": {},
   "outputs": [],
   "source": [
    "# set the lifestyle flag for married, middle-income\n",
    "# middle-income set between 60k and 160k\n",
    "ord_prod_full.loc[(ord_prod_full['fam_status'] == 'married') & (ord_prod_full['income'] > 60000) & (ord_prod_full['income'] <= 160000), 'lifestyle'] = 'married, middle-income'\n"
   ]
  },
  {
   "cell_type": "code",
   "execution_count": 46,
   "id": "934b4b5a",
   "metadata": {},
   "outputs": [],
   "source": [
    "# set the lifestyle flag for married, high-income\n",
    "# high-income set above 160k\n",
    "ord_prod_full.loc[(ord_prod_full['fam_status'] == 'married') & (ord_prod_full['income'] > 160000), 'lifestyle'] = 'married, high-income'\n"
   ]
  },
  {
   "cell_type": "code",
   "execution_count": 47,
   "id": "ed4510d0",
   "metadata": {},
   "outputs": [
    {
     "data": {
      "text/plain": [
       "lifestyle\n",
       "married, middle-income    17003043\n",
       "single, high-income        5711203\n",
       "married, low-income        4141394\n",
       "single, middle-income      3869614\n",
       "married, high-income       1633062\n",
       "single, low-income           76743\n",
       "Name: count, dtype: int64"
      ]
     },
     "execution_count": 47,
     "metadata": {},
     "output_type": "execute_result"
    }
   ],
   "source": [
    "# find value counts for lifestyle flag to check complete assignment\n",
    "ord_prod_full['lifestyle'].value_counts(dropna = False)"
   ]
  },
  {
   "cell_type": "code",
   "execution_count": 120,
   "id": "50ff05ad",
   "metadata": {},
   "outputs": [
    {
     "data": {
      "image/png": "[encoded data removed]",
      "text/plain": [
       "<Figure size 640x480 with 1 Axes>"
      ]
     },
     "metadata": {},
     "output_type": "display_data"
    }
   ],
   "source": [
    "# create bar graph for lifestyle flag\n",
    "lifestyle_bar = ord_prod_full['lifestyle'].value_counts().sort_index().plot.bar(color = ['#7FB3D5', '#2980B9', '#1F618D', '#A04000', '#D35400', '#E59866'])\n",
    "\n",
    "# adjust plot size\n",
    "plt.subplots_adjust(bottom=0.4)\n",
    "\n",
    "# add axis, title labels\n",
    "plt.xlabel('Lifestyle')\n",
    "plt.ylabel('Order Counts')\n",
    "plt.title('Lifestyle Order Counts')\n",
    "\n",
    "# add x tick labels, position adjusted\n",
    "plt.xticks(rotation=45, ha='right')\n",
    "\n",
    "# save figure\n",
    "plt.savefig(r'C:\\Users\\kacie\\Box\\Personal\\CareerFoundry\\Data Immersion\\Achievement 4\\Jupyter Folders\\New Visualzations\\lifestyle_order_bar.png')\n"
   ]
  },
  {
   "cell_type": "markdown",
   "id": "e6b9aae9",
   "metadata": {},
   "source": [
    "### Find statistics for lifestyle based on order number"
   ]
  },
  {
   "cell_type": "code",
   "execution_count": 49,
   "id": "041c2158",
   "metadata": {},
   "outputs": [],
   "source": [
    "# calculate statistics for lifestyle flag\n",
    "lifestyle_order_stats = ord_prod_full.groupby('lifestyle')['order_number'].agg(['min', 'max', 'mean'])"
   ]
  },
  {
   "cell_type": "code",
   "execution_count": 50,
   "id": "3cbb6d6b",
   "metadata": {},
   "outputs": [
    {
     "data": {
      "text/html": [
       "<div>\n",
       "<style scoped>\n",
       "    .dataframe tbody tr th:only-of-type {\n",
       "        vertical-align: middle;\n",
       "    }\n",
       "\n",
       "    .dataframe tbody tr th {\n",
       "        vertical-align: top;\n",
       "    }\n",
       "\n",
       "    .dataframe thead th {\n",
       "        text-align: right;\n",
       "    }\n",
       "</style>\n",
       "<table border=\"1\" class=\"dataframe\">\n",
       "  <thead>\n",
       "    <tr style=\"text-align: right;\">\n",
       "      <th></th>\n",
       "      <th>min</th>\n",
       "      <th>max</th>\n",
       "      <th>mean</th>\n",
       "    </tr>\n",
       "    <tr>\n",
       "      <th>lifestyle</th>\n",
       "      <th></th>\n",
       "      <th></th>\n",
       "      <th></th>\n",
       "    </tr>\n",
       "  </thead>\n",
       "  <tbody>\n",
       "    <tr>\n",
       "      <th>married, high-income</th>\n",
       "      <td>1</td>\n",
       "      <td>99</td>\n",
       "      <td>17.649773</td>\n",
       "    </tr>\n",
       "    <tr>\n",
       "      <th>married, low-income</th>\n",
       "      <td>1</td>\n",
       "      <td>99</td>\n",
       "      <td>16.380740</td>\n",
       "    </tr>\n",
       "    <tr>\n",
       "      <th>married, middle-income</th>\n",
       "      <td>1</td>\n",
       "      <td>99</td>\n",
       "      <td>17.205960</td>\n",
       "    </tr>\n",
       "    <tr>\n",
       "      <th>single, high-income</th>\n",
       "      <td>1</td>\n",
       "      <td>99</td>\n",
       "      <td>17.395376</td>\n",
       "    </tr>\n",
       "    <tr>\n",
       "      <th>single, low-income</th>\n",
       "      <td>1</td>\n",
       "      <td>99</td>\n",
       "      <td>14.430385</td>\n",
       "    </tr>\n",
       "    <tr>\n",
       "      <th>single, middle-income</th>\n",
       "      <td>1</td>\n",
       "      <td>99</td>\n",
       "      <td>17.140757</td>\n",
       "    </tr>\n",
       "  </tbody>\n",
       "</table>\n",
       "</div>"
      ],
      "text/plain": [
       "                        min  max       mean\n",
       "lifestyle                                  \n",
       "married, high-income      1   99  17.649773\n",
       "married, low-income       1   99  16.380740\n",
       "married, middle-income    1   99  17.205960\n",
       "single, high-income       1   99  17.395376\n",
       "single, low-income        1   99  14.430385\n",
       "single, middle-income     1   99  17.140757"
      ]
     },
     "execution_count": 50,
     "metadata": {},
     "output_type": "execute_result"
    }
   ],
   "source": [
    "# view table\n",
    "lifestyle_order_stats"
   ]
  },
  {
   "cell_type": "markdown",
   "id": "2dc72416",
   "metadata": {},
   "source": [
    "### Find statistics for shopping behavior based on expenditure"
   ]
  },
  {
   "cell_type": "code",
   "execution_count": 51,
   "id": "fd83b80b",
   "metadata": {},
   "outputs": [],
   "source": [
    "# find the expenditure for each customer for each order\n",
    "lifestyle_order_totals = ord_prod_full.groupby(['lifestyle', 'user_id', 'order_number'])['prices'].sum().reset_index()"
   ]
  },
  {
   "cell_type": "code",
   "execution_count": 52,
   "id": "66c87905",
   "metadata": {},
   "outputs": [
    {
     "data": {
      "text/html": [
       "<div>\n",
       "<style scoped>\n",
       "    .dataframe tbody tr th:only-of-type {\n",
       "        vertical-align: middle;\n",
       "    }\n",
       "\n",
       "    .dataframe tbody tr th {\n",
       "        vertical-align: top;\n",
       "    }\n",
       "\n",
       "    .dataframe thead th {\n",
       "        text-align: right;\n",
       "    }\n",
       "</style>\n",
       "<table border=\"1\" class=\"dataframe\">\n",
       "  <thead>\n",
       "    <tr style=\"text-align: right;\">\n",
       "      <th></th>\n",
       "      <th>lifestyle</th>\n",
       "      <th>user_id</th>\n",
       "      <th>order_number</th>\n",
       "      <th>prices</th>\n",
       "    </tr>\n",
       "  </thead>\n",
       "  <tbody>\n",
       "    <tr>\n",
       "      <th>0</th>\n",
       "      <td>married, high-income</td>\n",
       "      <td>54</td>\n",
       "      <td>1</td>\n",
       "      <td>94.9</td>\n",
       "    </tr>\n",
       "    <tr>\n",
       "      <th>1</th>\n",
       "      <td>married, high-income</td>\n",
       "      <td>54</td>\n",
       "      <td>2</td>\n",
       "      <td>120.7</td>\n",
       "    </tr>\n",
       "    <tr>\n",
       "      <th>2</th>\n",
       "      <td>married, high-income</td>\n",
       "      <td>54</td>\n",
       "      <td>3</td>\n",
       "      <td>99.9</td>\n",
       "    </tr>\n",
       "    <tr>\n",
       "      <th>3</th>\n",
       "      <td>married, high-income</td>\n",
       "      <td>54</td>\n",
       "      <td>4</td>\n",
       "      <td>47.1</td>\n",
       "    </tr>\n",
       "    <tr>\n",
       "      <th>4</th>\n",
       "      <td>married, high-income</td>\n",
       "      <td>54</td>\n",
       "      <td>5</td>\n",
       "      <td>28.2</td>\n",
       "    </tr>\n",
       "    <tr>\n",
       "      <th>...</th>\n",
       "      <td>...</td>\n",
       "      <td>...</td>\n",
       "      <td>...</td>\n",
       "      <td>...</td>\n",
       "    </tr>\n",
       "    <tr>\n",
       "      <th>3214869</th>\n",
       "      <td>single, middle-income</td>\n",
       "      <td>206193</td>\n",
       "      <td>37</td>\n",
       "      <td>124.6</td>\n",
       "    </tr>\n",
       "    <tr>\n",
       "      <th>3214870</th>\n",
       "      <td>single, middle-income</td>\n",
       "      <td>206193</td>\n",
       "      <td>38</td>\n",
       "      <td>153.3</td>\n",
       "    </tr>\n",
       "    <tr>\n",
       "      <th>3214871</th>\n",
       "      <td>single, middle-income</td>\n",
       "      <td>206193</td>\n",
       "      <td>39</td>\n",
       "      <td>55.1</td>\n",
       "    </tr>\n",
       "    <tr>\n",
       "      <th>3214872</th>\n",
       "      <td>single, middle-income</td>\n",
       "      <td>206193</td>\n",
       "      <td>40</td>\n",
       "      <td>120.0</td>\n",
       "    </tr>\n",
       "    <tr>\n",
       "      <th>3214873</th>\n",
       "      <td>single, middle-income</td>\n",
       "      <td>206193</td>\n",
       "      <td>41</td>\n",
       "      <td>156.0</td>\n",
       "    </tr>\n",
       "  </tbody>\n",
       "</table>\n",
       "<p>3214874 rows × 4 columns</p>\n",
       "</div>"
      ],
      "text/plain": [
       "                     lifestyle  user_id  order_number  prices\n",
       "0         married, high-income       54             1    94.9\n",
       "1         married, high-income       54             2   120.7\n",
       "2         married, high-income       54             3    99.9\n",
       "3         married, high-income       54             4    47.1\n",
       "4         married, high-income       54             5    28.2\n",
       "...                        ...      ...           ...     ...\n",
       "3214869  single, middle-income   206193            37   124.6\n",
       "3214870  single, middle-income   206193            38   153.3\n",
       "3214871  single, middle-income   206193            39    55.1\n",
       "3214872  single, middle-income   206193            40   120.0\n",
       "3214873  single, middle-income   206193            41   156.0\n",
       "\n",
       "[3214874 rows x 4 columns]"
      ]
     },
     "execution_count": 52,
     "metadata": {},
     "output_type": "execute_result"
    }
   ],
   "source": [
    "# view the order expenditures\n",
    "lifestyle_order_totals"
   ]
  },
  {
   "cell_type": "code",
   "execution_count": 53,
   "id": "0bc11121",
   "metadata": {},
   "outputs": [],
   "source": [
    "# find the expenditure statistics for each customer \n",
    "lifestyle_shopper_total = lifestyle_order_totals.groupby(['lifestyle', 'user_id'])['prices'].agg(['min', 'max', 'mean']).reset_index()"
   ]
  },
  {
   "cell_type": "code",
   "execution_count": 54,
   "id": "39efa155",
   "metadata": {},
   "outputs": [
    {
     "data": {
      "text/html": [
       "<div>\n",
       "<style scoped>\n",
       "    .dataframe tbody tr th:only-of-type {\n",
       "        vertical-align: middle;\n",
       "    }\n",
       "\n",
       "    .dataframe tbody tr th {\n",
       "        vertical-align: top;\n",
       "    }\n",
       "\n",
       "    .dataframe thead th {\n",
       "        text-align: right;\n",
       "    }\n",
       "</style>\n",
       "<table border=\"1\" class=\"dataframe\">\n",
       "  <thead>\n",
       "    <tr style=\"text-align: right;\">\n",
       "      <th></th>\n",
       "      <th>lifestyle</th>\n",
       "      <th>user_id</th>\n",
       "      <th>min</th>\n",
       "      <th>max</th>\n",
       "      <th>mean</th>\n",
       "    </tr>\n",
       "  </thead>\n",
       "  <tbody>\n",
       "    <tr>\n",
       "      <th>0</th>\n",
       "      <td>married, high-income</td>\n",
       "      <td>54</td>\n",
       "      <td>5.8</td>\n",
       "      <td>189.5</td>\n",
       "      <td>69.085714</td>\n",
       "    </tr>\n",
       "    <tr>\n",
       "      <th>1</th>\n",
       "      <td>married, high-income</td>\n",
       "      <td>61</td>\n",
       "      <td>84.2</td>\n",
       "      <td>225.2</td>\n",
       "      <td>155.025000</td>\n",
       "    </tr>\n",
       "    <tr>\n",
       "      <th>2</th>\n",
       "      <td>married, high-income</td>\n",
       "      <td>110</td>\n",
       "      <td>69.0</td>\n",
       "      <td>202.5</td>\n",
       "      <td>129.000000</td>\n",
       "    </tr>\n",
       "    <tr>\n",
       "      <th>3</th>\n",
       "      <td>married, high-income</td>\n",
       "      <td>175</td>\n",
       "      <td>7.4</td>\n",
       "      <td>131.1</td>\n",
       "      <td>40.839130</td>\n",
       "    </tr>\n",
       "    <tr>\n",
       "      <th>4</th>\n",
       "      <td>married, high-income</td>\n",
       "      <td>190</td>\n",
       "      <td>16.2</td>\n",
       "      <td>235.3</td>\n",
       "      <td>83.976471</td>\n",
       "    </tr>\n",
       "    <tr>\n",
       "      <th>...</th>\n",
       "      <td>...</td>\n",
       "      <td>...</td>\n",
       "      <td>...</td>\n",
       "      <td>...</td>\n",
       "      <td>...</td>\n",
       "    </tr>\n",
       "    <tr>\n",
       "      <th>206204</th>\n",
       "      <td>single, middle-income</td>\n",
       "      <td>206175</td>\n",
       "      <td>45.9</td>\n",
       "      <td>96.0</td>\n",
       "      <td>72.416667</td>\n",
       "    </tr>\n",
       "    <tr>\n",
       "      <th>206205</th>\n",
       "      <td>single, middle-income</td>\n",
       "      <td>206185</td>\n",
       "      <td>13.2</td>\n",
       "      <td>101.2</td>\n",
       "      <td>58.550000</td>\n",
       "    </tr>\n",
       "    <tr>\n",
       "      <th>206206</th>\n",
       "      <td>single, middle-income</td>\n",
       "      <td>206186</td>\n",
       "      <td>77.6</td>\n",
       "      <td>111.0</td>\n",
       "      <td>91.400000</td>\n",
       "    </tr>\n",
       "    <tr>\n",
       "      <th>206207</th>\n",
       "      <td>single, middle-income</td>\n",
       "      <td>206188</td>\n",
       "      <td>2.6</td>\n",
       "      <td>92.4</td>\n",
       "      <td>59.957143</td>\n",
       "    </tr>\n",
       "    <tr>\n",
       "      <th>206208</th>\n",
       "      <td>single, middle-income</td>\n",
       "      <td>206193</td>\n",
       "      <td>1.7</td>\n",
       "      <td>156.0</td>\n",
       "      <td>63.065854</td>\n",
       "    </tr>\n",
       "  </tbody>\n",
       "</table>\n",
       "<p>206209 rows × 5 columns</p>\n",
       "</div>"
      ],
      "text/plain": [
       "                    lifestyle  user_id   min    max        mean\n",
       "0        married, high-income       54   5.8  189.5   69.085714\n",
       "1        married, high-income       61  84.2  225.2  155.025000\n",
       "2        married, high-income      110  69.0  202.5  129.000000\n",
       "3        married, high-income      175   7.4  131.1   40.839130\n",
       "4        married, high-income      190  16.2  235.3   83.976471\n",
       "...                       ...      ...   ...    ...         ...\n",
       "206204  single, middle-income   206175  45.9   96.0   72.416667\n",
       "206205  single, middle-income   206185  13.2  101.2   58.550000\n",
       "206206  single, middle-income   206186  77.6  111.0   91.400000\n",
       "206207  single, middle-income   206188   2.6   92.4   59.957143\n",
       "206208  single, middle-income   206193   1.7  156.0   63.065854\n",
       "\n",
       "[206209 rows x 5 columns]"
      ]
     },
     "execution_count": 54,
     "metadata": {},
     "output_type": "execute_result"
    }
   ],
   "source": [
    "# view the expenditure statistics for each customer\n",
    "lifestyle_shopper_total"
   ]
  },
  {
   "cell_type": "code",
   "execution_count": 89,
   "id": "de086091",
   "metadata": {},
   "outputs": [],
   "source": [
    "# find the expenditure statistics for each flag\n",
    "lifestyle_price_stats = lifestyle_shopper_total.groupby('lifestyle').agg({'min': 'min', 'max': 'max', 'mean': 'mean'}).reset_index()"
   ]
  },
  {
   "cell_type": "code",
   "execution_count": 90,
   "id": "820eb93f",
   "metadata": {},
   "outputs": [
    {
     "data": {
      "text/html": [
       "<div>\n",
       "<style scoped>\n",
       "    .dataframe tbody tr th:only-of-type {\n",
       "        vertical-align: middle;\n",
       "    }\n",
       "\n",
       "    .dataframe tbody tr th {\n",
       "        vertical-align: top;\n",
       "    }\n",
       "\n",
       "    .dataframe thead th {\n",
       "        text-align: right;\n",
       "    }\n",
       "</style>\n",
       "<table border=\"1\" class=\"dataframe\">\n",
       "  <thead>\n",
       "    <tr style=\"text-align: right;\">\n",
       "      <th></th>\n",
       "      <th>lifestyle</th>\n",
       "      <th>min</th>\n",
       "      <th>max</th>\n",
       "      <th>mean</th>\n",
       "    </tr>\n",
       "  </thead>\n",
       "  <tbody>\n",
       "    <tr>\n",
       "      <th>0</th>\n",
       "      <td>married, high-income</td>\n",
       "      <td>0.0</td>\n",
       "      <td>1047.4</td>\n",
       "      <td>85.576077</td>\n",
       "    </tr>\n",
       "    <tr>\n",
       "      <th>1</th>\n",
       "      <td>married, low-income</td>\n",
       "      <td>0.0</td>\n",
       "      <td>842.1</td>\n",
       "      <td>56.829345</td>\n",
       "    </tr>\n",
       "    <tr>\n",
       "      <th>2</th>\n",
       "      <td>married, middle-income</td>\n",
       "      <td>0.0</td>\n",
       "      <td>1092.2</td>\n",
       "      <td>84.130960</td>\n",
       "    </tr>\n",
       "    <tr>\n",
       "      <th>3</th>\n",
       "      <td>single, high-income</td>\n",
       "      <td>0.0</td>\n",
       "      <td>736.7</td>\n",
       "      <td>83.816557</td>\n",
       "    </tr>\n",
       "    <tr>\n",
       "      <th>4</th>\n",
       "      <td>single, low-income</td>\n",
       "      <td>1.0</td>\n",
       "      <td>712.0</td>\n",
       "      <td>47.127179</td>\n",
       "    </tr>\n",
       "    <tr>\n",
       "      <th>5</th>\n",
       "      <td>single, middle-income</td>\n",
       "      <td>0.0</td>\n",
       "      <td>875.0</td>\n",
       "      <td>70.141824</td>\n",
       "    </tr>\n",
       "  </tbody>\n",
       "</table>\n",
       "</div>"
      ],
      "text/plain": [
       "                lifestyle  min     max       mean\n",
       "0    married, high-income  0.0  1047.4  85.576077\n",
       "1     married, low-income  0.0   842.1  56.829345\n",
       "2  married, middle-income  0.0  1092.2  84.130960\n",
       "3     single, high-income  0.0   736.7  83.816557\n",
       "4      single, low-income  1.0   712.0  47.127179\n",
       "5   single, middle-income  0.0   875.0  70.141824"
      ]
     },
     "execution_count": 90,
     "metadata": {},
     "output_type": "execute_result"
    }
   ],
   "source": [
    "lifestyle_price_stats"
   ]
  },
  {
   "cell_type": "code",
   "execution_count": 122,
   "id": "23d351e7",
   "metadata": {},
   "outputs": [
    {
     "data": {
      "image/png": "[encoded data removed]",
      "text/plain": [
       "<Figure size 640x480 with 1 Axes>"
      ]
     },
     "metadata": {},
     "output_type": "display_data"
    }
   ],
   "source": [
    "# create bar graph for average order expenditure per lifetstyle\n",
    "lifestyle_price_bar = sns.barplot(x = 'lifestyle', y = 'mean', data = lifestyle_price_stats, palette = ['#7FB3D5', '#2980B9', '#1F618D', '#A04000', '#D35400', '#E59866'])\n",
    "\n",
    "# adjust plot size\n",
    "plt.subplots_adjust(bottom=0.4)\n",
    "\n",
    "# add axis labels\n",
    "plt.xlabel('Lifestyle')\n",
    "plt.ylabel('Average Expenditure')\n",
    "plt.title('Average Expenditure per Lifestyle')\n",
    "\n",
    "# add x tick labels, position adjusted\n",
    "plt.xticks(rotation = 45, ha = 'right')\n",
    "\n",
    "# save figure\n",
    "plt.savefig(r'C:\\Users\\kacie\\Box\\Personal\\CareerFoundry\\Data Immersion\\Achievement 4\\Jupyter Folders\\New Visualzations\\lifestyle_spend_bar.png')\n"
   ]
  },
  {
   "cell_type": "code",
   "execution_count": null,
   "id": "be65e995",
   "metadata": {},
   "outputs": [],
   "source": [
    "lifest"
   ]
  },
  {
   "cell_type": "markdown",
   "id": "a98bf222",
   "metadata": {},
   "source": [
    "### Analyze customer shopping behavior by region"
   ]
  },
  {
   "cell_type": "code",
   "execution_count": 57,
   "id": "af06761d",
   "metadata": {},
   "outputs": [],
   "source": [
    "# create crosstable for lifestyle and region\n",
    "lifestyle_reg_cross = pd.crosstab(ord_prod_full['Region'], ord_prod_full['lifestyle'], dropna = False)"
   ]
  },
  {
   "cell_type": "code",
   "execution_count": 58,
   "id": "77c91da4",
   "metadata": {},
   "outputs": [
    {
     "data": {
      "text/html": [
       "<div>\n",
       "<style scoped>\n",
       "    .dataframe tbody tr th:only-of-type {\n",
       "        vertical-align: middle;\n",
       "    }\n",
       "\n",
       "    .dataframe tbody tr th {\n",
       "        vertical-align: top;\n",
       "    }\n",
       "\n",
       "    .dataframe thead th {\n",
       "        text-align: right;\n",
       "    }\n",
       "</style>\n",
       "<table border=\"1\" class=\"dataframe\">\n",
       "  <thead>\n",
       "    <tr style=\"text-align: right;\">\n",
       "      <th>lifestyle</th>\n",
       "      <th>married, high-income</th>\n",
       "      <th>married, low-income</th>\n",
       "      <th>married, middle-income</th>\n",
       "      <th>single, high-income</th>\n",
       "      <th>single, low-income</th>\n",
       "      <th>single, middle-income</th>\n",
       "    </tr>\n",
       "    <tr>\n",
       "      <th>Region</th>\n",
       "      <th></th>\n",
       "      <th></th>\n",
       "      <th></th>\n",
       "      <th></th>\n",
       "      <th></th>\n",
       "      <th></th>\n",
       "    </tr>\n",
       "  </thead>\n",
       "  <tbody>\n",
       "    <tr>\n",
       "      <th>Midwest</th>\n",
       "      <td>392611</td>\n",
       "      <td>966271</td>\n",
       "      <td>3971339</td>\n",
       "      <td>1362512</td>\n",
       "      <td>20684</td>\n",
       "      <td>890599</td>\n",
       "    </tr>\n",
       "    <tr>\n",
       "      <th>Northeast</th>\n",
       "      <td>293770</td>\n",
       "      <td>726041</td>\n",
       "      <td>3020429</td>\n",
       "      <td>994034</td>\n",
       "      <td>11318</td>\n",
       "      <td>682852</td>\n",
       "    </tr>\n",
       "    <tr>\n",
       "      <th>South</th>\n",
       "      <td>538656</td>\n",
       "      <td>1402058</td>\n",
       "      <td>5626873</td>\n",
       "      <td>1895312</td>\n",
       "      <td>25334</td>\n",
       "      <td>1313749</td>\n",
       "    </tr>\n",
       "    <tr>\n",
       "      <th>West</th>\n",
       "      <td>408025</td>\n",
       "      <td>1047024</td>\n",
       "      <td>4384402</td>\n",
       "      <td>1459345</td>\n",
       "      <td>19407</td>\n",
       "      <td>982414</td>\n",
       "    </tr>\n",
       "  </tbody>\n",
       "</table>\n",
       "</div>"
      ],
      "text/plain": [
       "lifestyle  married, high-income  married, low-income  married, middle-income  \\\n",
       "Region                                                                         \n",
       "Midwest                  392611               966271                 3971339   \n",
       "Northeast                293770               726041                 3020429   \n",
       "South                    538656              1402058                 5626873   \n",
       "West                     408025              1047024                 4384402   \n",
       "\n",
       "lifestyle  single, high-income  single, low-income  single, middle-income  \n",
       "Region                                                                     \n",
       "Midwest                1362512               20684                 890599  \n",
       "Northeast               994034               11318                 682852  \n",
       "South                  1895312               25334                1313749  \n",
       "West                   1459345               19407                 982414  "
      ]
     },
     "execution_count": 58,
     "metadata": {},
     "output_type": "execute_result"
    }
   ],
   "source": [
    "# view crosstable\n",
    "lifestyle_reg_cross"
   ]
  },
  {
   "cell_type": "code",
   "execution_count": 59,
   "id": "b6b7380a",
   "metadata": {},
   "outputs": [],
   "source": [
    "# create long table for clustered bar graph\n",
    "reg_lifestyle_long = lifestyle_reg_cross.reset_index().melt(id_vars='Region', var_name='lifestyle', value_name='count')\n"
   ]
  },
  {
   "cell_type": "code",
   "execution_count": 123,
   "id": "2572546c",
   "metadata": {},
   "outputs": [
    {
     "data": {
      "image/png": "[encoded data removed]",
      "text/plain": [
       "<Figure size 640x480 with 1 Axes>"
      ]
     },
     "metadata": {},
     "output_type": "display_data"
    }
   ],
   "source": [
    "# create clustered bar graph for region and lifestyle\n",
    "reg_life_bar = sns.barplot(x='Region', y='count', hue='lifestyle', data=reg_lifestyle_long, palette = ['#7FB3D5', '#2980B9', '#1F618D', '#E59866', '#D35400', '#A04000'])\n",
    "\n",
    "# add axis, legend and title lables\n",
    "plt.xlabel('Region')\n",
    "plt.ylabel('Order Count')\n",
    "plt.title('Order Behavior by Lifestyle and Region')\n",
    "plt.legend(title = 'Lifestyle')\n",
    "\n",
    "# save figure\n",
    "plt.savefig(r'C:\\Users\\kacie\\Box\\Personal\\CareerFoundry\\Data Immersion\\Achievement 4\\Jupyter Folders\\New Visualzations\\lifestyle_region_bar.png')\n"
   ]
  },
  {
   "cell_type": "markdown",
   "id": "86aa7654",
   "metadata": {},
   "source": [
    "## Export tables and plots"
   ]
  },
  {
   "cell_type": "code",
   "execution_count": 80,
   "id": "724cf992",
   "metadata": {},
   "outputs": [],
   "source": [
    "shopping_behavior_bar.figure.savefig(r'C:\\Users\\kacie\\Box\\Personal\\CareerFoundry\\Data Immersion\\Achievement 4\\Jupyter Folders\\Visualizations\\shopping_behavior_bar.png')"
   ]
  },
  {
   "cell_type": "code",
   "execution_count": 81,
   "id": "6108013c",
   "metadata": {},
   "outputs": [],
   "source": [
    "dep_beh_bar.figure.savefig(r'C:\\Users\\kacie\\Box\\Personal\\CareerFoundry\\Data Immersion\\Achievement 4\\Jupyter Folders\\Visualizations\\department_behavior_bar.png')"
   ]
  },
  {
   "cell_type": "code",
   "execution_count": 82,
   "id": "1b59dbe2",
   "metadata": {},
   "outputs": [],
   "source": [
    "reg_beh_bar.figure.savefig(r'C:\\Users\\kacie\\Box\\Personal\\CareerFoundry\\Data Immersion\\Achievement 4\\Jupyter Folders\\Visualizations\\region_behavior_bar.png')"
   ]
  },
  {
   "cell_type": "code",
   "execution_count": 84,
   "id": "29a2d0ca",
   "metadata": {},
   "outputs": [],
   "source": [
    "lifestyle_bar.figure.savefig(r'C:\\Users\\kacie\\Box\\Personal\\CareerFoundry\\Data Immersion\\Achievement 4\\Jupyter Folders\\Visualizations\\lifestyle_bar.png')"
   ]
  },
  {
   "cell_type": "code",
   "execution_count": 85,
   "id": "5899217c",
   "metadata": {},
   "outputs": [],
   "source": [
    "reg_life_bar.figure.savefig(r'C:\\Users\\kacie\\Box\\Personal\\CareerFoundry\\Data Immersion\\Achievement 4\\Jupyter Folders\\Visualizations\\region_lifestyle_bar.png')"
   ]
  },
  {
   "cell_type": "code",
   "execution_count": 61,
   "id": "c065d253",
   "metadata": {},
   "outputs": [],
   "source": [
    "ord_prod_full.to_pickle(r'C:\\Users\\kacie\\Box\\Personal\\CareerFoundry\\Data Immersion\\Achievement 4\\Jupyter Folders\\Data\\Prepared Data\\ord_prod_full.pkl')"
   ]
  },
  {
   "cell_type": "code",
   "execution_count": 62,
   "id": "5c6da3e0",
   "metadata": {},
   "outputs": [
    {
     "data": {
      "text/plain": [
       "25.0"
      ]
     },
     "execution_count": 62,
     "metadata": {},
     "output_type": "execute_result"
    }
   ],
   "source": [
    "ord_prod_full['prices'].max()"
   ]
  },
  {
   "cell_type": "code",
   "execution_count": 125,
   "id": "f338ae6d",
   "metadata": {},
   "outputs": [],
   "source": [
    "behavior_table = ord_prod_full['shopping_behavior'].value_counts()"
   ]
  },
  {
   "cell_type": "code",
   "execution_count": 126,
   "id": "20c3d65f",
   "metadata": {},
   "outputs": [],
   "source": [
    "behavior_table.to_clipboard()"
   ]
  },
  {
   "cell_type": "code",
   "execution_count": 127,
   "id": "5b9dc9c2",
   "metadata": {},
   "outputs": [],
   "source": [
    "lifestyle_table = ord_prod_full['lifestyle'].value_counts()"
   ]
  },
  {
   "cell_type": "code",
   "execution_count": 128,
   "id": "0d564d5f",
   "metadata": {},
   "outputs": [],
   "source": [
    "lifestyle_table.to_clipboard()"
   ]
  },
  {
   "cell_type": "code",
   "execution_count": 130,
   "id": "1bca9b64",
   "metadata": {},
   "outputs": [],
   "source": [
    "price_range_table = ord_prod_full['price_range_loc'].value_counts()"
   ]
  },
  {
   "cell_type": "code",
   "execution_count": 131,
   "id": "7193d52e",
   "metadata": {},
   "outputs": [],
   "source": [
    "price_range_table.to_clipboard()"
   ]
  },
  {
   "cell_type": "code",
   "execution_count": 132,
   "id": "81593789",
   "metadata": {},
   "outputs": [],
   "source": [
    "busiest_table = ord_prod_full['Busiest_Days'].value_counts()"
   ]
  },
  {
   "cell_type": "code",
   "execution_count": 133,
   "id": "c8644df8",
   "metadata": {},
   "outputs": [],
   "source": [
    "busiest_table.to_clipboard()"
   ]
  },
  {
   "cell_type": "code",
   "execution_count": 134,
   "id": "fbad13f7",
   "metadata": {},
   "outputs": [],
   "source": [
    "busiest_period_table = ord_prod_full['busiest_period_of_day'].value_counts()"
   ]
  },
  {
   "cell_type": "code",
   "execution_count": 136,
   "id": "4d590646",
   "metadata": {},
   "outputs": [],
   "source": [
    "busiest_period_table.to_clipboard()"
   ]
  },
  {
   "cell_type": "code",
   "execution_count": 137,
   "id": "d77a344e",
   "metadata": {},
   "outputs": [],
   "source": [
    "loyalty_table = ord_prod_full['loyalty_flag'].value_counts()"
   ]
  },
  {
   "cell_type": "code",
   "execution_count": 138,
   "id": "74331cee",
   "metadata": {},
   "outputs": [],
   "source": [
    "loyalty_table.to_clipboard()"
   ]
  },
  {
   "cell_type": "code",
   "execution_count": 139,
   "id": "dd79466a",
   "metadata": {},
   "outputs": [],
   "source": [
    "spending_table = ord_prod_full['spending_flag'].value_counts()"
   ]
  },
  {
   "cell_type": "code",
   "execution_count": 140,
   "id": "43cff19d",
   "metadata": {},
   "outputs": [],
   "source": [
    "spending_table.to_clipboard()"
   ]
  },
  {
   "cell_type": "code",
   "execution_count": 141,
   "id": "f711fc43",
   "metadata": {},
   "outputs": [],
   "source": [
    "frequency_table = ord_prod_full['frequency_flag'].value_counts()"
   ]
  },
  {
   "cell_type": "code",
   "execution_count": 142,
   "id": "26490d06",
   "metadata": {},
   "outputs": [],
   "source": [
    "frequency_table.to_clipboard()"
   ]
  },
  {
   "cell_type": "code",
   "execution_count": null,
   "id": "22e66fbc",
   "metadata": {},
   "outputs": [],
   "source": []
  }
 ],
 "metadata": {
  "kernelspec": {
   "display_name": "Python 3 (ipykernel)",
   "language": "python",
   "name": "python3"
  },
  "language_info": {
   "codemirror_mode": {
    "name": "ipython",
    "version": 3
   },
   "file_extension": ".py",
   "mimetype": "text/x-python",
   "name": "python",
   "nbconvert_exporter": "python",
   "pygments_lexer": "ipython3",
   "version": "3.11.5"
  }
 },
 "nbformat": 4,
 "nbformat_minor": 5
}
