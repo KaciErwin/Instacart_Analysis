{
 "cells": [
  {
   "cell_type": "markdown",
   "id": "c3f4d58b",
   "metadata": {},
   "source": [
    "# Exercise 4.6"
   ]
  },
  {
   "cell_type": "code",
   "execution_count": 2,
   "id": "cb7f6383",
   "metadata": {},
   "outputs": [],
   "source": [
    "# import libraries\n",
    "import pandas as pd\n",
    "import numpy as np\n",
    "import os"
   ]
  },
  {
   "cell_type": "code",
   "execution_count": null,
   "id": "e46b90d1",
   "metadata": {},
   "outputs": [],
   "source": [
    "# import orders \n",
    "df_orders = pd.read_csv(r'C:\\Users\\kacie\\Box\\Personal\\CareerFoundry\\Data Immersion\\Achievement 4\\Jupyter Folders\\Data\\Prepared Data\\orders checked.csv', index_col = False)"
   ]
  },
  {
   "cell_type": "code",
   "execution_count": null,
   "id": "2e4f4a17",
   "metadata": {},
   "outputs": [],
   "source": [
    "df_orders.head()"
   ]
  },
  {
   "cell_type": "code",
   "execution_count": null,
   "id": "1abceec6",
   "metadata": {},
   "outputs": [],
   "source": [
    "# import orders_prior table\n",
    "df_orders_prior = pd.read_csv(r'C:\\Users\\kacie\\Box\\Personal\\CareerFoundry\\Data Immersion\\Achievement 4\\Jupyter Folders\\Data\\original data\\orders_products_prior.csv')"
   ]
  },
  {
   "cell_type": "code",
   "execution_count": null,
   "id": "06ddd997",
   "metadata": {},
   "outputs": [],
   "source": [
    "df_orders_prior.head()"
   ]
  },
  {
   "cell_type": "code",
   "execution_count": null,
   "id": "ed8368df",
   "metadata": {},
   "outputs": [],
   "source": [
    "# drop column from orders table\n",
    "df_orders.drop(['Unnamed: 0'], axis = 1, inplace = True)"
   ]
  },
  {
   "cell_type": "code",
   "execution_count": null,
   "id": "df55a77b",
   "metadata": {},
   "outputs": [],
   "source": [
    "df_orders.head()"
   ]
  },
  {
   "cell_type": "code",
   "execution_count": null,
   "id": "8671b3bd",
   "metadata": {},
   "outputs": [],
   "source": [
    "df_orders.shape"
   ]
  },
  {
   "cell_type": "code",
   "execution_count": null,
   "id": "bdbb0978",
   "metadata": {},
   "outputs": [],
   "source": [
    "df_orders_prior.shape"
   ]
  },
  {
   "cell_type": "code",
   "execution_count": null,
   "id": "61fcca1f",
   "metadata": {},
   "outputs": [],
   "source": [
    "# create merged table\n",
    "df_orders_merged = df_orders.merge(df_orders_prior, on ='order_id', indicator = True)"
   ]
  },
  {
   "cell_type": "code",
   "execution_count": null,
   "id": "c499e5b7",
   "metadata": {},
   "outputs": [],
   "source": [
    "df_orders_merged.head()"
   ]
  },
  {
   "cell_type": "code",
   "execution_count": null,
   "id": "32c53b7f",
   "metadata": {},
   "outputs": [],
   "source": [
    "# check completeness of merge\n",
    "df_orders_merged['_merge'].value_counts()"
   ]
  },
  {
   "cell_type": "code",
   "execution_count": null,
   "id": "2c04a946",
   "metadata": {},
   "outputs": [],
   "source": [
    "df_orders_merged.shape"
   ]
  },
  {
   "cell_type": "code",
   "execution_count": null,
   "id": "482eb94b",
   "metadata": {},
   "outputs": [],
   "source": [
    "# save merged table\n",
    "df_orders_merged.to_pickle(r'C:\\Users\\kacie\\Box\\Personal\\CareerFoundry\\Data Immersion\\Achievement 4\\Jupyter Folders\\Data\\Original Data\\orders products combined.pkl')"
   ]
  },
  {
   "cell_type": "code",
   "execution_count": null,
   "id": "4ff240c8",
   "metadata": {},
   "outputs": [],
   "source": [
    "# change name of table\n",
    "df_ord_prod = df_orders_merged"
   ]
  },
  {
   "cell_type": "code",
   "execution_count": 4,
   "id": "6eb5949a",
   "metadata": {},
   "outputs": [
    {
     "data": {
      "text/plain": [
       "(32434489, 10)"
      ]
     },
     "execution_count": 4,
     "metadata": {},
     "output_type": "execute_result"
    }
   ],
   "source": [
    "# 4.6.4\n",
    "df_ord_prod.shape"
   ]
  },
  {
   "cell_type": "code",
   "execution_count": 5,
   "id": "961f91f1",
   "metadata": {},
   "outputs": [
    {
     "data": {
      "text/html": [
       "<div>\n",
       "<style scoped>\n",
       "    .dataframe tbody tr th:only-of-type {\n",
       "        vertical-align: middle;\n",
       "    }\n",
       "\n",
       "    .dataframe tbody tr th {\n",
       "        vertical-align: top;\n",
       "    }\n",
       "\n",
       "    .dataframe thead th {\n",
       "        text-align: right;\n",
       "    }\n",
       "</style>\n",
       "<table border=\"1\" class=\"dataframe\">\n",
       "  <thead>\n",
       "    <tr style=\"text-align: right;\">\n",
       "      <th></th>\n",
       "      <th>order_id</th>\n",
       "      <th>user_id</th>\n",
       "      <th>order_number</th>\n",
       "      <th>order_day_of_week</th>\n",
       "      <th>order_hour</th>\n",
       "      <th>days_since_prior_order</th>\n",
       "      <th>product_id</th>\n",
       "      <th>add_to_cart_order</th>\n",
       "      <th>reordered</th>\n",
       "      <th>_merge</th>\n",
       "    </tr>\n",
       "  </thead>\n",
       "  <tbody>\n",
       "    <tr>\n",
       "      <th>0</th>\n",
       "      <td>2539329</td>\n",
       "      <td>1</td>\n",
       "      <td>1</td>\n",
       "      <td>2</td>\n",
       "      <td>8</td>\n",
       "      <td>0</td>\n",
       "      <td>196</td>\n",
       "      <td>1</td>\n",
       "      <td>0</td>\n",
       "      <td>both</td>\n",
       "    </tr>\n",
       "    <tr>\n",
       "      <th>1</th>\n",
       "      <td>2539329</td>\n",
       "      <td>1</td>\n",
       "      <td>1</td>\n",
       "      <td>2</td>\n",
       "      <td>8</td>\n",
       "      <td>0</td>\n",
       "      <td>14084</td>\n",
       "      <td>2</td>\n",
       "      <td>0</td>\n",
       "      <td>both</td>\n",
       "    </tr>\n",
       "    <tr>\n",
       "      <th>2</th>\n",
       "      <td>2539329</td>\n",
       "      <td>1</td>\n",
       "      <td>1</td>\n",
       "      <td>2</td>\n",
       "      <td>8</td>\n",
       "      <td>0</td>\n",
       "      <td>12427</td>\n",
       "      <td>3</td>\n",
       "      <td>0</td>\n",
       "      <td>both</td>\n",
       "    </tr>\n",
       "    <tr>\n",
       "      <th>3</th>\n",
       "      <td>2539329</td>\n",
       "      <td>1</td>\n",
       "      <td>1</td>\n",
       "      <td>2</td>\n",
       "      <td>8</td>\n",
       "      <td>0</td>\n",
       "      <td>26088</td>\n",
       "      <td>4</td>\n",
       "      <td>0</td>\n",
       "      <td>both</td>\n",
       "    </tr>\n",
       "    <tr>\n",
       "      <th>4</th>\n",
       "      <td>2539329</td>\n",
       "      <td>1</td>\n",
       "      <td>1</td>\n",
       "      <td>2</td>\n",
       "      <td>8</td>\n",
       "      <td>0</td>\n",
       "      <td>26405</td>\n",
       "      <td>5</td>\n",
       "      <td>0</td>\n",
       "      <td>both</td>\n",
       "    </tr>\n",
       "  </tbody>\n",
       "</table>\n",
       "</div>"
      ],
      "text/plain": [
       "   order_id  user_id  order_number  order_day_of_week  order_hour  \\\n",
       "0   2539329        1             1                  2           8   \n",
       "1   2539329        1             1                  2           8   \n",
       "2   2539329        1             1                  2           8   \n",
       "3   2539329        1             1                  2           8   \n",
       "4   2539329        1             1                  2           8   \n",
       "\n",
       "   days_since_prior_order  product_id  add_to_cart_order  reordered _merge  \n",
       "0                       0         196                  1          0   both  \n",
       "1                       0       14084                  2          0   both  \n",
       "2                       0       12427                  3          0   both  \n",
       "3                       0       26088                  4          0   both  \n",
       "4                       0       26405                  5          0   both  "
      ]
     },
     "execution_count": 5,
     "metadata": {},
     "output_type": "execute_result"
    }
   ],
   "source": [
    "df_ord_prod.head()"
   ]
  },
  {
   "cell_type": "code",
   "execution_count": 6,
   "id": "546b12ad",
   "metadata": {},
   "outputs": [],
   "source": [
    "# remove indicator column from combined orders products table\n",
    "df_ord_prod.drop(['_merge'], axis = 1, inplace = True)"
   ]
  },
  {
   "cell_type": "code",
   "execution_count": 7,
   "id": "f2375bbf",
   "metadata": {},
   "outputs": [
    {
     "data": {
      "text/html": [
       "<div>\n",
       "<style scoped>\n",
       "    .dataframe tbody tr th:only-of-type {\n",
       "        vertical-align: middle;\n",
       "    }\n",
       "\n",
       "    .dataframe tbody tr th {\n",
       "        vertical-align: top;\n",
       "    }\n",
       "\n",
       "    .dataframe thead th {\n",
       "        text-align: right;\n",
       "    }\n",
       "</style>\n",
       "<table border=\"1\" class=\"dataframe\">\n",
       "  <thead>\n",
       "    <tr style=\"text-align: right;\">\n",
       "      <th></th>\n",
       "      <th>order_id</th>\n",
       "      <th>user_id</th>\n",
       "      <th>order_number</th>\n",
       "      <th>order_day_of_week</th>\n",
       "      <th>order_hour</th>\n",
       "      <th>days_since_prior_order</th>\n",
       "      <th>product_id</th>\n",
       "      <th>add_to_cart_order</th>\n",
       "      <th>reordered</th>\n",
       "    </tr>\n",
       "  </thead>\n",
       "  <tbody>\n",
       "    <tr>\n",
       "      <th>0</th>\n",
       "      <td>2539329</td>\n",
       "      <td>1</td>\n",
       "      <td>1</td>\n",
       "      <td>2</td>\n",
       "      <td>8</td>\n",
       "      <td>0</td>\n",
       "      <td>196</td>\n",
       "      <td>1</td>\n",
       "      <td>0</td>\n",
       "    </tr>\n",
       "    <tr>\n",
       "      <th>1</th>\n",
       "      <td>2539329</td>\n",
       "      <td>1</td>\n",
       "      <td>1</td>\n",
       "      <td>2</td>\n",
       "      <td>8</td>\n",
       "      <td>0</td>\n",
       "      <td>14084</td>\n",
       "      <td>2</td>\n",
       "      <td>0</td>\n",
       "    </tr>\n",
       "    <tr>\n",
       "      <th>2</th>\n",
       "      <td>2539329</td>\n",
       "      <td>1</td>\n",
       "      <td>1</td>\n",
       "      <td>2</td>\n",
       "      <td>8</td>\n",
       "      <td>0</td>\n",
       "      <td>12427</td>\n",
       "      <td>3</td>\n",
       "      <td>0</td>\n",
       "    </tr>\n",
       "    <tr>\n",
       "      <th>3</th>\n",
       "      <td>2539329</td>\n",
       "      <td>1</td>\n",
       "      <td>1</td>\n",
       "      <td>2</td>\n",
       "      <td>8</td>\n",
       "      <td>0</td>\n",
       "      <td>26088</td>\n",
       "      <td>4</td>\n",
       "      <td>0</td>\n",
       "    </tr>\n",
       "    <tr>\n",
       "      <th>4</th>\n",
       "      <td>2539329</td>\n",
       "      <td>1</td>\n",
       "      <td>1</td>\n",
       "      <td>2</td>\n",
       "      <td>8</td>\n",
       "      <td>0</td>\n",
       "      <td>26405</td>\n",
       "      <td>5</td>\n",
       "      <td>0</td>\n",
       "    </tr>\n",
       "  </tbody>\n",
       "</table>\n",
       "</div>"
      ],
      "text/plain": [
       "   order_id  user_id  order_number  order_day_of_week  order_hour  \\\n",
       "0   2539329        1             1                  2           8   \n",
       "1   2539329        1             1                  2           8   \n",
       "2   2539329        1             1                  2           8   \n",
       "3   2539329        1             1                  2           8   \n",
       "4   2539329        1             1                  2           8   \n",
       "\n",
       "   days_since_prior_order  product_id  add_to_cart_order  reordered  \n",
       "0                       0         196                  1          0  \n",
       "1                       0       14084                  2          0  \n",
       "2                       0       12427                  3          0  \n",
       "3                       0       26088                  4          0  \n",
       "4                       0       26405                  5          0  "
      ]
     },
     "execution_count": 7,
     "metadata": {},
     "output_type": "execute_result"
    }
   ],
   "source": [
    "df_ord_prod.head()"
   ]
  },
  {
   "cell_type": "code",
   "execution_count": 8,
   "id": "c87c1c8d",
   "metadata": {},
   "outputs": [
    {
     "data": {
      "text/plain": [
       "(32434489, 9)"
      ]
     },
     "execution_count": 8,
     "metadata": {},
     "output_type": "execute_result"
    }
   ],
   "source": [
    "df_ord_prod.shape"
   ]
  },
  {
   "cell_type": "code",
   "execution_count": 9,
   "id": "b6d67422",
   "metadata": {},
   "outputs": [],
   "source": [
    "# upload products table\n",
    "df_prod = pd.read_csv(r'C:\\Users\\kacie\\Box\\Personal\\CareerFoundry\\Data Immersion\\Achievement 4\\Jupyter Folders\\Data\\Prepared Data\\products checked.csv')"
   ]
  },
  {
   "cell_type": "code",
   "execution_count": 10,
   "id": "6c8dbaed",
   "metadata": {},
   "outputs": [
    {
     "data": {
      "text/plain": [
       "(49672, 6)"
      ]
     },
     "execution_count": 10,
     "metadata": {},
     "output_type": "execute_result"
    }
   ],
   "source": [
    "df_prod.shape"
   ]
  },
  {
   "cell_type": "code",
   "execution_count": 11,
   "id": "79fb283e",
   "metadata": {},
   "outputs": [
    {
     "data": {
      "text/html": [
       "<div>\n",
       "<style scoped>\n",
       "    .dataframe tbody tr th:only-of-type {\n",
       "        vertical-align: middle;\n",
       "    }\n",
       "\n",
       "    .dataframe tbody tr th {\n",
       "        vertical-align: top;\n",
       "    }\n",
       "\n",
       "    .dataframe thead th {\n",
       "        text-align: right;\n",
       "    }\n",
       "</style>\n",
       "<table border=\"1\" class=\"dataframe\">\n",
       "  <thead>\n",
       "    <tr style=\"text-align: right;\">\n",
       "      <th></th>\n",
       "      <th>Unnamed: 0</th>\n",
       "      <th>product_id</th>\n",
       "      <th>product_name</th>\n",
       "      <th>aisle_id</th>\n",
       "      <th>department_id</th>\n",
       "      <th>prices</th>\n",
       "    </tr>\n",
       "  </thead>\n",
       "  <tbody>\n",
       "    <tr>\n",
       "      <th>0</th>\n",
       "      <td>0</td>\n",
       "      <td>1</td>\n",
       "      <td>Chocolate Sandwich Cookies</td>\n",
       "      <td>61</td>\n",
       "      <td>19</td>\n",
       "      <td>5.8</td>\n",
       "    </tr>\n",
       "    <tr>\n",
       "      <th>1</th>\n",
       "      <td>1</td>\n",
       "      <td>2</td>\n",
       "      <td>All-Seasons Salt</td>\n",
       "      <td>104</td>\n",
       "      <td>13</td>\n",
       "      <td>9.3</td>\n",
       "    </tr>\n",
       "    <tr>\n",
       "      <th>2</th>\n",
       "      <td>2</td>\n",
       "      <td>3</td>\n",
       "      <td>Robust Golden Unsweetened Oolong Tea</td>\n",
       "      <td>94</td>\n",
       "      <td>7</td>\n",
       "      <td>4.5</td>\n",
       "    </tr>\n",
       "    <tr>\n",
       "      <th>3</th>\n",
       "      <td>3</td>\n",
       "      <td>4</td>\n",
       "      <td>Smart Ones Classic Favorites Mini Rigatoni Wit...</td>\n",
       "      <td>38</td>\n",
       "      <td>1</td>\n",
       "      <td>10.5</td>\n",
       "    </tr>\n",
       "    <tr>\n",
       "      <th>4</th>\n",
       "      <td>4</td>\n",
       "      <td>5</td>\n",
       "      <td>Green Chile Anytime Sauce</td>\n",
       "      <td>5</td>\n",
       "      <td>13</td>\n",
       "      <td>4.3</td>\n",
       "    </tr>\n",
       "  </tbody>\n",
       "</table>\n",
       "</div>"
      ],
      "text/plain": [
       "   Unnamed: 0  product_id                                       product_name  \\\n",
       "0           0           1                         Chocolate Sandwich Cookies   \n",
       "1           1           2                                   All-Seasons Salt   \n",
       "2           2           3               Robust Golden Unsweetened Oolong Tea   \n",
       "3           3           4  Smart Ones Classic Favorites Mini Rigatoni Wit...   \n",
       "4           4           5                          Green Chile Anytime Sauce   \n",
       "\n",
       "   aisle_id  department_id  prices  \n",
       "0        61             19     5.8  \n",
       "1       104             13     9.3  \n",
       "2        94              7     4.5  \n",
       "3        38              1    10.5  \n",
       "4         5             13     4.3  "
      ]
     },
     "execution_count": 11,
     "metadata": {},
     "output_type": "execute_result"
    }
   ],
   "source": [
    "df_prod.head()"
   ]
  },
  {
   "cell_type": "code",
   "execution_count": 12,
   "id": "673fcbe2",
   "metadata": {},
   "outputs": [],
   "source": [
    "#remove unwanted index column from products table\n",
    "df_prod.drop(['Unnamed: 0'], axis = 1, inplace=True)"
   ]
  },
  {
   "cell_type": "code",
   "execution_count": 13,
   "id": "7ec2b741",
   "metadata": {},
   "outputs": [
    {
     "data": {
      "text/html": [
       "<div>\n",
       "<style scoped>\n",
       "    .dataframe tbody tr th:only-of-type {\n",
       "        vertical-align: middle;\n",
       "    }\n",
       "\n",
       "    .dataframe tbody tr th {\n",
       "        vertical-align: top;\n",
       "    }\n",
       "\n",
       "    .dataframe thead th {\n",
       "        text-align: right;\n",
       "    }\n",
       "</style>\n",
       "<table border=\"1\" class=\"dataframe\">\n",
       "  <thead>\n",
       "    <tr style=\"text-align: right;\">\n",
       "      <th></th>\n",
       "      <th>product_id</th>\n",
       "      <th>product_name</th>\n",
       "      <th>aisle_id</th>\n",
       "      <th>department_id</th>\n",
       "      <th>prices</th>\n",
       "    </tr>\n",
       "  </thead>\n",
       "  <tbody>\n",
       "    <tr>\n",
       "      <th>0</th>\n",
       "      <td>1</td>\n",
       "      <td>Chocolate Sandwich Cookies</td>\n",
       "      <td>61</td>\n",
       "      <td>19</td>\n",
       "      <td>5.8</td>\n",
       "    </tr>\n",
       "    <tr>\n",
       "      <th>1</th>\n",
       "      <td>2</td>\n",
       "      <td>All-Seasons Salt</td>\n",
       "      <td>104</td>\n",
       "      <td>13</td>\n",
       "      <td>9.3</td>\n",
       "    </tr>\n",
       "    <tr>\n",
       "      <th>2</th>\n",
       "      <td>3</td>\n",
       "      <td>Robust Golden Unsweetened Oolong Tea</td>\n",
       "      <td>94</td>\n",
       "      <td>7</td>\n",
       "      <td>4.5</td>\n",
       "    </tr>\n",
       "    <tr>\n",
       "      <th>3</th>\n",
       "      <td>4</td>\n",
       "      <td>Smart Ones Classic Favorites Mini Rigatoni Wit...</td>\n",
       "      <td>38</td>\n",
       "      <td>1</td>\n",
       "      <td>10.5</td>\n",
       "    </tr>\n",
       "    <tr>\n",
       "      <th>4</th>\n",
       "      <td>5</td>\n",
       "      <td>Green Chile Anytime Sauce</td>\n",
       "      <td>5</td>\n",
       "      <td>13</td>\n",
       "      <td>4.3</td>\n",
       "    </tr>\n",
       "  </tbody>\n",
       "</table>\n",
       "</div>"
      ],
      "text/plain": [
       "   product_id                                       product_name  aisle_id  \\\n",
       "0           1                         Chocolate Sandwich Cookies        61   \n",
       "1           2                                   All-Seasons Salt       104   \n",
       "2           3               Robust Golden Unsweetened Oolong Tea        94   \n",
       "3           4  Smart Ones Classic Favorites Mini Rigatoni Wit...        38   \n",
       "4           5                          Green Chile Anytime Sauce         5   \n",
       "\n",
       "   department_id  prices  \n",
       "0             19     5.8  \n",
       "1             13     9.3  \n",
       "2              7     4.5  \n",
       "3              1    10.5  \n",
       "4             13     4.3  "
      ]
     },
     "execution_count": 13,
     "metadata": {},
     "output_type": "execute_result"
    }
   ],
   "source": [
    "df_prod.head()"
   ]
  },
  {
   "cell_type": "code",
   "execution_count": 14,
   "id": "b642cab6",
   "metadata": {},
   "outputs": [
    {
     "data": {
      "text/plain": [
       "(49672, 5)"
      ]
     },
     "execution_count": 14,
     "metadata": {},
     "output_type": "execute_result"
    }
   ],
   "source": [
    "df_prod.shape"
   ]
  },
  {
   "cell_type": "code",
   "execution_count": 15,
   "id": "e7132ac9",
   "metadata": {},
   "outputs": [
    {
     "data": {
      "text/plain": [
       "product_id         int64\n",
       "product_name      object\n",
       "aisle_id           int64\n",
       "department_id      int64\n",
       "prices           float64\n",
       "dtype: object"
      ]
     },
     "execution_count": 15,
     "metadata": {},
     "output_type": "execute_result"
    }
   ],
   "source": [
    "#check data types for product table\n",
    "df_prod.dtypes"
   ]
  },
  {
   "cell_type": "code",
   "execution_count": 21,
   "id": "e343e466",
   "metadata": {},
   "outputs": [],
   "source": [
    "# make new products table with different int types\n",
    "df_prod_int8 = df_prod.astype({'product_id': 'int32', 'aisle_id' : 'int8', 'department_id' :'int8'})"
   ]
  },
  {
   "cell_type": "code",
   "execution_count": 22,
   "id": "0c8469c2",
   "metadata": {},
   "outputs": [
    {
     "data": {
      "text/plain": [
       "product_id         int32\n",
       "product_name      object\n",
       "aisle_id            int8\n",
       "department_id       int8\n",
       "prices           float64\n",
       "dtype: object"
      ]
     },
     "execution_count": 22,
     "metadata": {},
     "output_type": "execute_result"
    }
   ],
   "source": [
    "# check new product table data types\n",
    "df_prod_int8.dtypes"
   ]
  },
  {
   "cell_type": "code",
   "execution_count": 18,
   "id": "87e89ea4",
   "metadata": {},
   "outputs": [
    {
     "data": {
      "text/plain": [
       "order_id                  int64\n",
       "user_id                   int64\n",
       "order_number              int64\n",
       "order_day_of_week         int64\n",
       "order_hour                int64\n",
       "days_since_prior_order    int64\n",
       "product_id                int64\n",
       "add_to_cart_order         int64\n",
       "reordered                 int64\n",
       "dtype: object"
      ]
     },
     "execution_count": 18,
     "metadata": {},
     "output_type": "execute_result"
    }
   ],
   "source": [
    "# check data types of the ord_prod table\n",
    "df_ord_prod.dtypes"
   ]
  },
  {
   "cell_type": "code",
   "execution_count": 19,
   "id": "b80a1522",
   "metadata": {},
   "outputs": [],
   "source": [
    "# create new ord_prod table with data type of int8\n",
    "df_ord_prod_int8= df_ord_prod.astype({'order_id':'int8',\n",
    "'user_id':'int32',\n",
    "'order_number':'int8',\n",
    "'order_day_of_week':'int8',\n",
    "'order_hour':'int8',\n",
    "'days_since_prior_order':'int8',\n",
    "'product_id':'int32',\n",
    "'add_to_cart_order':'int8',\n",
    "'reordered':'int8'})"
   ]
  },
  {
   "cell_type": "code",
   "execution_count": 20,
   "id": "41bec2e2",
   "metadata": {},
   "outputs": [
    {
     "data": {
      "text/plain": [
       "order_id                   int8\n",
       "user_id                   int32\n",
       "order_number               int8\n",
       "order_day_of_week          int8\n",
       "order_hour                 int8\n",
       "days_since_prior_order     int8\n",
       "product_id                int32\n",
       "add_to_cart_order          int8\n",
       "reordered                  int8\n",
       "dtype: object"
      ]
     },
     "execution_count": 20,
     "metadata": {},
     "output_type": "execute_result"
    }
   ],
   "source": [
    "# check new ord_prod table data types\n",
    "df_ord_prod_int8.dtypes"
   ]
  },
  {
   "cell_type": "code",
   "execution_count": 23,
   "id": "83840fe1",
   "metadata": {},
   "outputs": [],
   "source": [
    "# 4.6.5 create merged ord_ prod and products table\n",
    "df_ord_prod_large = df_ord_prod_int8.merge(df_prod_int8, how='left', on = 'product_id', indicator = True)"
   ]
  },
  {
   "cell_type": "code",
   "execution_count": 24,
   "id": "13b9a0e8",
   "metadata": {},
   "outputs": [
    {
     "data": {
      "text/html": [
       "<div>\n",
       "<style scoped>\n",
       "    .dataframe tbody tr th:only-of-type {\n",
       "        vertical-align: middle;\n",
       "    }\n",
       "\n",
       "    .dataframe tbody tr th {\n",
       "        vertical-align: top;\n",
       "    }\n",
       "\n",
       "    .dataframe thead th {\n",
       "        text-align: right;\n",
       "    }\n",
       "</style>\n",
       "<table border=\"1\" class=\"dataframe\">\n",
       "  <thead>\n",
       "    <tr style=\"text-align: right;\">\n",
       "      <th></th>\n",
       "      <th>order_id</th>\n",
       "      <th>user_id</th>\n",
       "      <th>order_number</th>\n",
       "      <th>order_day_of_week</th>\n",
       "      <th>order_hour</th>\n",
       "      <th>days_since_prior_order</th>\n",
       "      <th>product_id</th>\n",
       "      <th>add_to_cart_order</th>\n",
       "      <th>reordered</th>\n",
       "      <th>product_name</th>\n",
       "      <th>aisle_id</th>\n",
       "      <th>department_id</th>\n",
       "      <th>prices</th>\n",
       "      <th>_merge</th>\n",
       "    </tr>\n",
       "  </thead>\n",
       "  <tbody>\n",
       "    <tr>\n",
       "      <th>0</th>\n",
       "      <td>65</td>\n",
       "      <td>1</td>\n",
       "      <td>1</td>\n",
       "      <td>2</td>\n",
       "      <td>8</td>\n",
       "      <td>0</td>\n",
       "      <td>196</td>\n",
       "      <td>1</td>\n",
       "      <td>0</td>\n",
       "      <td>Soda</td>\n",
       "      <td>77.0</td>\n",
       "      <td>7.0</td>\n",
       "      <td>9.0</td>\n",
       "      <td>both</td>\n",
       "    </tr>\n",
       "    <tr>\n",
       "      <th>1</th>\n",
       "      <td>65</td>\n",
       "      <td>1</td>\n",
       "      <td>1</td>\n",
       "      <td>2</td>\n",
       "      <td>8</td>\n",
       "      <td>0</td>\n",
       "      <td>14084</td>\n",
       "      <td>2</td>\n",
       "      <td>0</td>\n",
       "      <td>Organic Unsweetened Vanilla Almond Milk</td>\n",
       "      <td>91.0</td>\n",
       "      <td>16.0</td>\n",
       "      <td>12.5</td>\n",
       "      <td>both</td>\n",
       "    </tr>\n",
       "    <tr>\n",
       "      <th>2</th>\n",
       "      <td>65</td>\n",
       "      <td>1</td>\n",
       "      <td>1</td>\n",
       "      <td>2</td>\n",
       "      <td>8</td>\n",
       "      <td>0</td>\n",
       "      <td>12427</td>\n",
       "      <td>3</td>\n",
       "      <td>0</td>\n",
       "      <td>Original Beef Jerky</td>\n",
       "      <td>23.0</td>\n",
       "      <td>19.0</td>\n",
       "      <td>4.4</td>\n",
       "      <td>both</td>\n",
       "    </tr>\n",
       "    <tr>\n",
       "      <th>3</th>\n",
       "      <td>65</td>\n",
       "      <td>1</td>\n",
       "      <td>1</td>\n",
       "      <td>2</td>\n",
       "      <td>8</td>\n",
       "      <td>0</td>\n",
       "      <td>26088</td>\n",
       "      <td>4</td>\n",
       "      <td>0</td>\n",
       "      <td>Aged White Cheddar Popcorn</td>\n",
       "      <td>23.0</td>\n",
       "      <td>19.0</td>\n",
       "      <td>4.7</td>\n",
       "      <td>both</td>\n",
       "    </tr>\n",
       "    <tr>\n",
       "      <th>4</th>\n",
       "      <td>65</td>\n",
       "      <td>1</td>\n",
       "      <td>1</td>\n",
       "      <td>2</td>\n",
       "      <td>8</td>\n",
       "      <td>0</td>\n",
       "      <td>26405</td>\n",
       "      <td>5</td>\n",
       "      <td>0</td>\n",
       "      <td>XL Pick-A-Size Paper Towel Rolls</td>\n",
       "      <td>54.0</td>\n",
       "      <td>17.0</td>\n",
       "      <td>1.0</td>\n",
       "      <td>both</td>\n",
       "    </tr>\n",
       "  </tbody>\n",
       "</table>\n",
       "</div>"
      ],
      "text/plain": [
       "   order_id  user_id  order_number  order_day_of_week  order_hour  \\\n",
       "0        65        1             1                  2           8   \n",
       "1        65        1             1                  2           8   \n",
       "2        65        1             1                  2           8   \n",
       "3        65        1             1                  2           8   \n",
       "4        65        1             1                  2           8   \n",
       "\n",
       "   days_since_prior_order  product_id  add_to_cart_order  reordered  \\\n",
       "0                       0         196                  1          0   \n",
       "1                       0       14084                  2          0   \n",
       "2                       0       12427                  3          0   \n",
       "3                       0       26088                  4          0   \n",
       "4                       0       26405                  5          0   \n",
       "\n",
       "                              product_name  aisle_id  department_id  prices  \\\n",
       "0                                     Soda      77.0            7.0     9.0   \n",
       "1  Organic Unsweetened Vanilla Almond Milk      91.0           16.0    12.5   \n",
       "2                      Original Beef Jerky      23.0           19.0     4.4   \n",
       "3               Aged White Cheddar Popcorn      23.0           19.0     4.7   \n",
       "4         XL Pick-A-Size Paper Towel Rolls      54.0           17.0     1.0   \n",
       "\n",
       "  _merge  \n",
       "0   both  \n",
       "1   both  \n",
       "2   both  \n",
       "3   both  \n",
       "4   both  "
      ]
     },
     "execution_count": 24,
     "metadata": {},
     "output_type": "execute_result"
    }
   ],
   "source": [
    "df_ord_prod_large.head()"
   ]
  },
  {
   "cell_type": "code",
   "execution_count": 26,
   "id": "0bc08d89",
   "metadata": {},
   "outputs": [
    {
     "data": {
      "text/plain": [
       "_merge\n",
       "both          32404859\n",
       "left_only        30200\n",
       "right_only           0\n",
       "Name: count, dtype: int64"
      ]
     },
     "execution_count": 26,
     "metadata": {},
     "output_type": "execute_result"
    }
   ],
   "source": [
    "# 4.6.6 check the source of data in merged table\n",
    "df_ord_prod_large['_merge'].value_counts()"
   ]
  },
  {
   "cell_type": "code",
   "execution_count": 29,
   "id": "75cd535c",
   "metadata": {},
   "outputs": [
    {
     "data": {
      "text/plain": [
       "order_id                      int8\n",
       "user_id                      int32\n",
       "order_number                  int8\n",
       "order_day_of_week             int8\n",
       "order_hour                    int8\n",
       "days_since_prior_order        int8\n",
       "product_id                   int32\n",
       "add_to_cart_order             int8\n",
       "reordered                     int8\n",
       "product_name                object\n",
       "aisle_id                   float64\n",
       "department_id              float64\n",
       "prices                     float64\n",
       "_merge                    category\n",
       "dtype: object"
      ]
     },
     "execution_count": 29,
     "metadata": {},
     "output_type": "execute_result"
    }
   ],
   "source": [
    "# check data types of new merged table\n",
    "df_ord_prod_large.dtypes"
   ]
  },
  {
   "cell_type": "code",
   "execution_count": 28,
   "id": "f6113903",
   "metadata": {},
   "outputs": [],
   "source": [
    "# save merged table\n",
    "df_ord_prod_large.to_pickle(r'C:\\Users\\kacie\\Box\\Personal\\CareerFoundry\\Data Immersion\\Achievement 4\\Jupyter Folders\\Data\\Original Data\\ords_prods_merge.pkl')"
   ]
  },
  {
   "cell_type": "code",
   "execution_count": null,
   "id": "9127f930",
   "metadata": {},
   "outputs": [],
   "source": []
  }
 ],
 "metadata": {
  "kernelspec": {
   "display_name": "Python 3 (ipykernel)",
   "language": "python",
   "name": "python3"
  },
  "language_info": {
   "codemirror_mode": {
    "name": "ipython",
    "version": 3
   },
   "file_extension": ".py",
   "mimetype": "text/x-python",
   "name": "python",
   "nbconvert_exporter": "python",
   "pygments_lexer": "ipython3",
   "version": "3.11.5"
  }
 },
 "nbformat": 4,
 "nbformat_minor": 5
}
